{
 "cells": [
  {
   "cell_type": "code",
   "execution_count": 84,
   "metadata": {},
   "outputs": [],
   "source": [
    "import pandas as pd\n",
    "import numpy as np\n",
    "import matplotlib.pyplot as plt\n",
    "%matplotlib inline\n",
    "\n",
    "from datetime import datetime as dt\n",
    "from sklearn import metrics\n",
    "import seaborn as sns\n",
    "from sklearn.model_selection import cross_val_score\n",
    "import statsmodels.formula.api as smf\n",
    "from sklearn.ensemble import RandomForestClassifier"
   ]
  },
  {
   "cell_type": "code",
   "execution_count": 85,
   "metadata": {},
   "outputs": [],
   "source": [
    "train=pd.read_csv('train.csv',parse_dates=['Date'])\n",
    "features=pd.read_csv('features.csv',parse_dates=['Date'])\n",
    "stores=pd.read_csv('stores.csv')"
   ]
  },
  {
   "cell_type": "code",
   "execution_count": 86,
   "metadata": {},
   "outputs": [
    {
     "data": {
      "text/html": [
       "<div>\n",
       "<style scoped>\n",
       "    .dataframe tbody tr th:only-of-type {\n",
       "        vertical-align: middle;\n",
       "    }\n",
       "\n",
       "    .dataframe tbody tr th {\n",
       "        vertical-align: top;\n",
       "    }\n",
       "\n",
       "    .dataframe thead th {\n",
       "        text-align: right;\n",
       "    }\n",
       "</style>\n",
       "<table border=\"1\" class=\"dataframe\">\n",
       "  <thead>\n",
       "    <tr style=\"text-align: right;\">\n",
       "      <th></th>\n",
       "      <th>Store</th>\n",
       "      <th>Type</th>\n",
       "      <th>Size</th>\n",
       "    </tr>\n",
       "  </thead>\n",
       "  <tbody>\n",
       "    <tr>\n",
       "      <th>0</th>\n",
       "      <td>1</td>\n",
       "      <td>A</td>\n",
       "      <td>151315</td>\n",
       "    </tr>\n",
       "    <tr>\n",
       "      <th>1</th>\n",
       "      <td>2</td>\n",
       "      <td>A</td>\n",
       "      <td>202307</td>\n",
       "    </tr>\n",
       "    <tr>\n",
       "      <th>2</th>\n",
       "      <td>3</td>\n",
       "      <td>B</td>\n",
       "      <td>37392</td>\n",
       "    </tr>\n",
       "    <tr>\n",
       "      <th>3</th>\n",
       "      <td>4</td>\n",
       "      <td>A</td>\n",
       "      <td>205863</td>\n",
       "    </tr>\n",
       "    <tr>\n",
       "      <th>4</th>\n",
       "      <td>5</td>\n",
       "      <td>B</td>\n",
       "      <td>34875</td>\n",
       "    </tr>\n",
       "  </tbody>\n",
       "</table>\n",
       "</div>"
      ],
      "text/plain": [
       "   Store Type    Size\n",
       "0      1    A  151315\n",
       "1      2    A  202307\n",
       "2      3    B   37392\n",
       "3      4    A  205863\n",
       "4      5    B   34875"
      ]
     },
     "execution_count": 86,
     "metadata": {},
     "output_type": "execute_result"
    }
   ],
   "source": [
    "#merged = features.merge(stores, on ='Stores')\n",
    "stores.head()"
   ]
  },
  {
   "cell_type": "code",
   "execution_count": 87,
   "metadata": {},
   "outputs": [
    {
     "data": {
      "text/html": [
       "<div>\n",
       "<style scoped>\n",
       "    .dataframe tbody tr th:only-of-type {\n",
       "        vertical-align: middle;\n",
       "    }\n",
       "\n",
       "    .dataframe tbody tr th {\n",
       "        vertical-align: top;\n",
       "    }\n",
       "\n",
       "    .dataframe thead th {\n",
       "        text-align: right;\n",
       "    }\n",
       "</style>\n",
       "<table border=\"1\" class=\"dataframe\">\n",
       "  <thead>\n",
       "    <tr style=\"text-align: right;\">\n",
       "      <th></th>\n",
       "      <th>Store</th>\n",
       "      <th>Date</th>\n",
       "      <th>Temperature</th>\n",
       "      <th>Fuel_Price</th>\n",
       "      <th>MarkDown1</th>\n",
       "      <th>MarkDown2</th>\n",
       "      <th>MarkDown3</th>\n",
       "      <th>MarkDown4</th>\n",
       "      <th>MarkDown5</th>\n",
       "      <th>CPI</th>\n",
       "      <th>Unemployment</th>\n",
       "      <th>IsHoliday</th>\n",
       "      <th>Type</th>\n",
       "      <th>Size</th>\n",
       "    </tr>\n",
       "  </thead>\n",
       "  <tbody>\n",
       "    <tr>\n",
       "      <th>0</th>\n",
       "      <td>1</td>\n",
       "      <td>2010-02-05</td>\n",
       "      <td>42.31</td>\n",
       "      <td>2.572</td>\n",
       "      <td>NaN</td>\n",
       "      <td>NaN</td>\n",
       "      <td>NaN</td>\n",
       "      <td>NaN</td>\n",
       "      <td>NaN</td>\n",
       "      <td>211.096358</td>\n",
       "      <td>8.106</td>\n",
       "      <td>False</td>\n",
       "      <td>A</td>\n",
       "      <td>151315</td>\n",
       "    </tr>\n",
       "    <tr>\n",
       "      <th>1</th>\n",
       "      <td>1</td>\n",
       "      <td>2010-02-12</td>\n",
       "      <td>38.51</td>\n",
       "      <td>2.548</td>\n",
       "      <td>NaN</td>\n",
       "      <td>NaN</td>\n",
       "      <td>NaN</td>\n",
       "      <td>NaN</td>\n",
       "      <td>NaN</td>\n",
       "      <td>211.242170</td>\n",
       "      <td>8.106</td>\n",
       "      <td>True</td>\n",
       "      <td>A</td>\n",
       "      <td>151315</td>\n",
       "    </tr>\n",
       "    <tr>\n",
       "      <th>2</th>\n",
       "      <td>1</td>\n",
       "      <td>2010-02-19</td>\n",
       "      <td>39.93</td>\n",
       "      <td>2.514</td>\n",
       "      <td>NaN</td>\n",
       "      <td>NaN</td>\n",
       "      <td>NaN</td>\n",
       "      <td>NaN</td>\n",
       "      <td>NaN</td>\n",
       "      <td>211.289143</td>\n",
       "      <td>8.106</td>\n",
       "      <td>False</td>\n",
       "      <td>A</td>\n",
       "      <td>151315</td>\n",
       "    </tr>\n",
       "    <tr>\n",
       "      <th>3</th>\n",
       "      <td>1</td>\n",
       "      <td>2010-02-26</td>\n",
       "      <td>46.63</td>\n",
       "      <td>2.561</td>\n",
       "      <td>NaN</td>\n",
       "      <td>NaN</td>\n",
       "      <td>NaN</td>\n",
       "      <td>NaN</td>\n",
       "      <td>NaN</td>\n",
       "      <td>211.319643</td>\n",
       "      <td>8.106</td>\n",
       "      <td>False</td>\n",
       "      <td>A</td>\n",
       "      <td>151315</td>\n",
       "    </tr>\n",
       "    <tr>\n",
       "      <th>4</th>\n",
       "      <td>1</td>\n",
       "      <td>2010-03-05</td>\n",
       "      <td>46.50</td>\n",
       "      <td>2.625</td>\n",
       "      <td>NaN</td>\n",
       "      <td>NaN</td>\n",
       "      <td>NaN</td>\n",
       "      <td>NaN</td>\n",
       "      <td>NaN</td>\n",
       "      <td>211.350143</td>\n",
       "      <td>8.106</td>\n",
       "      <td>False</td>\n",
       "      <td>A</td>\n",
       "      <td>151315</td>\n",
       "    </tr>\n",
       "  </tbody>\n",
       "</table>\n",
       "</div>"
      ],
      "text/plain": [
       "   Store       Date  Temperature  Fuel_Price  MarkDown1  MarkDown2  MarkDown3  \\\n",
       "0      1 2010-02-05        42.31       2.572        NaN        NaN        NaN   \n",
       "1      1 2010-02-12        38.51       2.548        NaN        NaN        NaN   \n",
       "2      1 2010-02-19        39.93       2.514        NaN        NaN        NaN   \n",
       "3      1 2010-02-26        46.63       2.561        NaN        NaN        NaN   \n",
       "4      1 2010-03-05        46.50       2.625        NaN        NaN        NaN   \n",
       "\n",
       "   MarkDown4  MarkDown5         CPI  Unemployment  IsHoliday Type    Size  \n",
       "0        NaN        NaN  211.096358         8.106      False    A  151315  \n",
       "1        NaN        NaN  211.242170         8.106       True    A  151315  \n",
       "2        NaN        NaN  211.289143         8.106      False    A  151315  \n",
       "3        NaN        NaN  211.319643         8.106      False    A  151315  \n",
       "4        NaN        NaN  211.350143         8.106      False    A  151315  "
      ]
     },
     "execution_count": 87,
     "metadata": {},
     "output_type": "execute_result"
    }
   ],
   "source": [
    "df1=pd.merge(features,stores,on=['Store'])\n",
    "df1.head()"
   ]
  },
  {
   "cell_type": "code",
   "execution_count": 88,
   "metadata": {
    "scrolled": true
   },
   "outputs": [
    {
     "name": "stdout",
     "output_type": "stream",
     "text": [
      "<class 'pandas.core.frame.DataFrame'>\n",
      "Int64Index: 8190 entries, 0 to 8189\n",
      "Data columns (total 14 columns):\n",
      " #   Column        Non-Null Count  Dtype         \n",
      "---  ------        --------------  -----         \n",
      " 0   Store         8190 non-null   int64         \n",
      " 1   Date          8190 non-null   datetime64[ns]\n",
      " 2   Temperature   8190 non-null   float64       \n",
      " 3   Fuel_Price    8190 non-null   float64       \n",
      " 4   MarkDown1     4032 non-null   float64       \n",
      " 5   MarkDown2     2921 non-null   float64       \n",
      " 6   MarkDown3     3613 non-null   float64       \n",
      " 7   MarkDown4     3464 non-null   float64       \n",
      " 8   MarkDown5     4050 non-null   float64       \n",
      " 9   CPI           7605 non-null   float64       \n",
      " 10  Unemployment  7605 non-null   float64       \n",
      " 11  IsHoliday     8190 non-null   bool          \n",
      " 12  Type          8190 non-null   object        \n",
      " 13  Size          8190 non-null   int64         \n",
      "dtypes: bool(1), datetime64[ns](1), float64(9), int64(2), object(1)\n",
      "memory usage: 903.8+ KB\n"
     ]
    }
   ],
   "source": [
    "df1.info()"
   ]
  },
  {
   "cell_type": "code",
   "execution_count": 89,
   "metadata": {},
   "outputs": [],
   "source": [
    "df1.drop(['MarkDown1','MarkDown2','MarkDown3','MarkDown4','MarkDown5'],axis=1,inplace=True)"
   ]
  },
  {
   "cell_type": "code",
   "execution_count": 90,
   "metadata": {},
   "outputs": [
    {
     "data": {
      "text/html": [
       "<div>\n",
       "<style scoped>\n",
       "    .dataframe tbody tr th:only-of-type {\n",
       "        vertical-align: middle;\n",
       "    }\n",
       "\n",
       "    .dataframe tbody tr th {\n",
       "        vertical-align: top;\n",
       "    }\n",
       "\n",
       "    .dataframe thead th {\n",
       "        text-align: right;\n",
       "    }\n",
       "</style>\n",
       "<table border=\"1\" class=\"dataframe\">\n",
       "  <thead>\n",
       "    <tr style=\"text-align: right;\">\n",
       "      <th></th>\n",
       "      <th>Store</th>\n",
       "      <th>Date</th>\n",
       "      <th>Temperature</th>\n",
       "      <th>Fuel_Price</th>\n",
       "      <th>CPI</th>\n",
       "      <th>Unemployment</th>\n",
       "      <th>IsHoliday</th>\n",
       "      <th>Type</th>\n",
       "      <th>Size</th>\n",
       "    </tr>\n",
       "  </thead>\n",
       "  <tbody>\n",
       "    <tr>\n",
       "      <th>0</th>\n",
       "      <td>1</td>\n",
       "      <td>2010-02-05</td>\n",
       "      <td>42.31</td>\n",
       "      <td>2.572</td>\n",
       "      <td>211.096358</td>\n",
       "      <td>8.106</td>\n",
       "      <td>False</td>\n",
       "      <td>A</td>\n",
       "      <td>151315</td>\n",
       "    </tr>\n",
       "    <tr>\n",
       "      <th>1</th>\n",
       "      <td>1</td>\n",
       "      <td>2010-02-12</td>\n",
       "      <td>38.51</td>\n",
       "      <td>2.548</td>\n",
       "      <td>211.242170</td>\n",
       "      <td>8.106</td>\n",
       "      <td>True</td>\n",
       "      <td>A</td>\n",
       "      <td>151315</td>\n",
       "    </tr>\n",
       "    <tr>\n",
       "      <th>2</th>\n",
       "      <td>1</td>\n",
       "      <td>2010-02-19</td>\n",
       "      <td>39.93</td>\n",
       "      <td>2.514</td>\n",
       "      <td>211.289143</td>\n",
       "      <td>8.106</td>\n",
       "      <td>False</td>\n",
       "      <td>A</td>\n",
       "      <td>151315</td>\n",
       "    </tr>\n",
       "    <tr>\n",
       "      <th>3</th>\n",
       "      <td>1</td>\n",
       "      <td>2010-02-26</td>\n",
       "      <td>46.63</td>\n",
       "      <td>2.561</td>\n",
       "      <td>211.319643</td>\n",
       "      <td>8.106</td>\n",
       "      <td>False</td>\n",
       "      <td>A</td>\n",
       "      <td>151315</td>\n",
       "    </tr>\n",
       "    <tr>\n",
       "      <th>4</th>\n",
       "      <td>1</td>\n",
       "      <td>2010-03-05</td>\n",
       "      <td>46.50</td>\n",
       "      <td>2.625</td>\n",
       "      <td>211.350143</td>\n",
       "      <td>8.106</td>\n",
       "      <td>False</td>\n",
       "      <td>A</td>\n",
       "      <td>151315</td>\n",
       "    </tr>\n",
       "  </tbody>\n",
       "</table>\n",
       "</div>"
      ],
      "text/plain": [
       "   Store       Date  Temperature  Fuel_Price         CPI  Unemployment  \\\n",
       "0      1 2010-02-05        42.31       2.572  211.096358         8.106   \n",
       "1      1 2010-02-12        38.51       2.548  211.242170         8.106   \n",
       "2      1 2010-02-19        39.93       2.514  211.289143         8.106   \n",
       "3      1 2010-02-26        46.63       2.561  211.319643         8.106   \n",
       "4      1 2010-03-05        46.50       2.625  211.350143         8.106   \n",
       "\n",
       "   IsHoliday Type    Size  \n",
       "0      False    A  151315  \n",
       "1       True    A  151315  \n",
       "2      False    A  151315  \n",
       "3      False    A  151315  \n",
       "4      False    A  151315  "
      ]
     },
     "execution_count": 90,
     "metadata": {},
     "output_type": "execute_result"
    }
   ],
   "source": [
    "df1.head()"
   ]
  },
  {
   "cell_type": "code",
   "execution_count": 91,
   "metadata": {},
   "outputs": [],
   "source": [
    "df1.to_csv('all_features.csv',index=False)"
   ]
  },
  {
   "cell_type": "code",
   "execution_count": 92,
   "metadata": {},
   "outputs": [
    {
     "data": {
      "text/html": [
       "<div>\n",
       "<style scoped>\n",
       "    .dataframe tbody tr th:only-of-type {\n",
       "        vertical-align: middle;\n",
       "    }\n",
       "\n",
       "    .dataframe tbody tr th {\n",
       "        vertical-align: top;\n",
       "    }\n",
       "\n",
       "    .dataframe thead th {\n",
       "        text-align: right;\n",
       "    }\n",
       "</style>\n",
       "<table border=\"1\" class=\"dataframe\">\n",
       "  <thead>\n",
       "    <tr style=\"text-align: right;\">\n",
       "      <th></th>\n",
       "      <th>Store</th>\n",
       "      <th>Dept</th>\n",
       "      <th>Date</th>\n",
       "      <th>Weekly_Sales</th>\n",
       "      <th>IsHoliday</th>\n",
       "      <th>Temperature</th>\n",
       "      <th>Fuel_Price</th>\n",
       "      <th>CPI</th>\n",
       "      <th>Unemployment</th>\n",
       "      <th>Type</th>\n",
       "      <th>Size</th>\n",
       "    </tr>\n",
       "  </thead>\n",
       "  <tbody>\n",
       "    <tr>\n",
       "      <th>0</th>\n",
       "      <td>1</td>\n",
       "      <td>1</td>\n",
       "      <td>2010-02-05</td>\n",
       "      <td>24924.50</td>\n",
       "      <td>False</td>\n",
       "      <td>42.31</td>\n",
       "      <td>2.572</td>\n",
       "      <td>211.096358</td>\n",
       "      <td>8.106</td>\n",
       "      <td>A</td>\n",
       "      <td>151315</td>\n",
       "    </tr>\n",
       "    <tr>\n",
       "      <th>1</th>\n",
       "      <td>1</td>\n",
       "      <td>2</td>\n",
       "      <td>2010-02-05</td>\n",
       "      <td>50605.27</td>\n",
       "      <td>False</td>\n",
       "      <td>42.31</td>\n",
       "      <td>2.572</td>\n",
       "      <td>211.096358</td>\n",
       "      <td>8.106</td>\n",
       "      <td>A</td>\n",
       "      <td>151315</td>\n",
       "    </tr>\n",
       "    <tr>\n",
       "      <th>2</th>\n",
       "      <td>1</td>\n",
       "      <td>3</td>\n",
       "      <td>2010-02-05</td>\n",
       "      <td>13740.12</td>\n",
       "      <td>False</td>\n",
       "      <td>42.31</td>\n",
       "      <td>2.572</td>\n",
       "      <td>211.096358</td>\n",
       "      <td>8.106</td>\n",
       "      <td>A</td>\n",
       "      <td>151315</td>\n",
       "    </tr>\n",
       "    <tr>\n",
       "      <th>3</th>\n",
       "      <td>1</td>\n",
       "      <td>4</td>\n",
       "      <td>2010-02-05</td>\n",
       "      <td>39954.04</td>\n",
       "      <td>False</td>\n",
       "      <td>42.31</td>\n",
       "      <td>2.572</td>\n",
       "      <td>211.096358</td>\n",
       "      <td>8.106</td>\n",
       "      <td>A</td>\n",
       "      <td>151315</td>\n",
       "    </tr>\n",
       "    <tr>\n",
       "      <th>4</th>\n",
       "      <td>1</td>\n",
       "      <td>5</td>\n",
       "      <td>2010-02-05</td>\n",
       "      <td>32229.38</td>\n",
       "      <td>False</td>\n",
       "      <td>42.31</td>\n",
       "      <td>2.572</td>\n",
       "      <td>211.096358</td>\n",
       "      <td>8.106</td>\n",
       "      <td>A</td>\n",
       "      <td>151315</td>\n",
       "    </tr>\n",
       "  </tbody>\n",
       "</table>\n",
       "</div>"
      ],
      "text/plain": [
       "   Store  Dept       Date  Weekly_Sales  IsHoliday  Temperature  Fuel_Price  \\\n",
       "0      1     1 2010-02-05      24924.50      False        42.31       2.572   \n",
       "1      1     2 2010-02-05      50605.27      False        42.31       2.572   \n",
       "2      1     3 2010-02-05      13740.12      False        42.31       2.572   \n",
       "3      1     4 2010-02-05      39954.04      False        42.31       2.572   \n",
       "4      1     5 2010-02-05      32229.38      False        42.31       2.572   \n",
       "\n",
       "          CPI  Unemployment Type    Size  \n",
       "0  211.096358         8.106    A  151315  \n",
       "1  211.096358         8.106    A  151315  \n",
       "2  211.096358         8.106    A  151315  \n",
       "3  211.096358         8.106    A  151315  \n",
       "4  211.096358         8.106    A  151315  "
      ]
     },
     "execution_count": 92,
     "metadata": {},
     "output_type": "execute_result"
    }
   ],
   "source": [
    "data=pd.merge(train,df1,on=['Date','Store','IsHoliday'])\n",
    "data.head()"
   ]
  },
  {
   "cell_type": "code",
   "execution_count": 93,
   "metadata": {},
   "outputs": [
    {
     "data": {
      "text/plain": [
       "(421570, 11)"
      ]
     },
     "execution_count": 93,
     "metadata": {},
     "output_type": "execute_result"
    }
   ],
   "source": [
    "data.shape"
   ]
  },
  {
   "cell_type": "code",
   "execution_count": 94,
   "metadata": {},
   "outputs": [],
   "source": [
    "y=[]\n",
    "m=[]\n",
    "d=[]\n",
    "for dt in data['Date']:\n",
    "    y.append(dt.year)\n",
    "    m.append(dt.month)\n",
    "    d.append(dt.day)"
   ]
  },
  {
   "cell_type": "code",
   "execution_count": 95,
   "metadata": {},
   "outputs": [],
   "source": [
    "data['Year'] = pd.Series(y)\n",
    "data['Month'] = pd.Series(m)\n",
    "data['Day'] = pd.Series(d)"
   ]
  },
  {
   "cell_type": "code",
   "execution_count": 96,
   "metadata": {},
   "outputs": [],
   "source": [
    "data.drop('Date',axis=1,inplace=True)"
   ]
  },
  {
   "cell_type": "code",
   "execution_count": 97,
   "metadata": {},
   "outputs": [
    {
     "data": {
      "text/html": [
       "<div>\n",
       "<style scoped>\n",
       "    .dataframe tbody tr th:only-of-type {\n",
       "        vertical-align: middle;\n",
       "    }\n",
       "\n",
       "    .dataframe tbody tr th {\n",
       "        vertical-align: top;\n",
       "    }\n",
       "\n",
       "    .dataframe thead th {\n",
       "        text-align: right;\n",
       "    }\n",
       "</style>\n",
       "<table border=\"1\" class=\"dataframe\">\n",
       "  <thead>\n",
       "    <tr style=\"text-align: right;\">\n",
       "      <th></th>\n",
       "      <th>Store</th>\n",
       "      <th>Dept</th>\n",
       "      <th>Weekly_Sales</th>\n",
       "      <th>IsHoliday</th>\n",
       "      <th>Temperature</th>\n",
       "      <th>Fuel_Price</th>\n",
       "      <th>CPI</th>\n",
       "      <th>Unemployment</th>\n",
       "      <th>Type</th>\n",
       "      <th>Size</th>\n",
       "      <th>Year</th>\n",
       "      <th>Month</th>\n",
       "      <th>Day</th>\n",
       "    </tr>\n",
       "  </thead>\n",
       "  <tbody>\n",
       "    <tr>\n",
       "      <th>0</th>\n",
       "      <td>1</td>\n",
       "      <td>1</td>\n",
       "      <td>24924.50</td>\n",
       "      <td>False</td>\n",
       "      <td>42.31</td>\n",
       "      <td>2.572</td>\n",
       "      <td>211.096358</td>\n",
       "      <td>8.106</td>\n",
       "      <td>A</td>\n",
       "      <td>151315</td>\n",
       "      <td>2010</td>\n",
       "      <td>2</td>\n",
       "      <td>5</td>\n",
       "    </tr>\n",
       "    <tr>\n",
       "      <th>1</th>\n",
       "      <td>1</td>\n",
       "      <td>2</td>\n",
       "      <td>50605.27</td>\n",
       "      <td>False</td>\n",
       "      <td>42.31</td>\n",
       "      <td>2.572</td>\n",
       "      <td>211.096358</td>\n",
       "      <td>8.106</td>\n",
       "      <td>A</td>\n",
       "      <td>151315</td>\n",
       "      <td>2010</td>\n",
       "      <td>2</td>\n",
       "      <td>5</td>\n",
       "    </tr>\n",
       "    <tr>\n",
       "      <th>2</th>\n",
       "      <td>1</td>\n",
       "      <td>3</td>\n",
       "      <td>13740.12</td>\n",
       "      <td>False</td>\n",
       "      <td>42.31</td>\n",
       "      <td>2.572</td>\n",
       "      <td>211.096358</td>\n",
       "      <td>8.106</td>\n",
       "      <td>A</td>\n",
       "      <td>151315</td>\n",
       "      <td>2010</td>\n",
       "      <td>2</td>\n",
       "      <td>5</td>\n",
       "    </tr>\n",
       "    <tr>\n",
       "      <th>3</th>\n",
       "      <td>1</td>\n",
       "      <td>4</td>\n",
       "      <td>39954.04</td>\n",
       "      <td>False</td>\n",
       "      <td>42.31</td>\n",
       "      <td>2.572</td>\n",
       "      <td>211.096358</td>\n",
       "      <td>8.106</td>\n",
       "      <td>A</td>\n",
       "      <td>151315</td>\n",
       "      <td>2010</td>\n",
       "      <td>2</td>\n",
       "      <td>5</td>\n",
       "    </tr>\n",
       "    <tr>\n",
       "      <th>4</th>\n",
       "      <td>1</td>\n",
       "      <td>5</td>\n",
       "      <td>32229.38</td>\n",
       "      <td>False</td>\n",
       "      <td>42.31</td>\n",
       "      <td>2.572</td>\n",
       "      <td>211.096358</td>\n",
       "      <td>8.106</td>\n",
       "      <td>A</td>\n",
       "      <td>151315</td>\n",
       "      <td>2010</td>\n",
       "      <td>2</td>\n",
       "      <td>5</td>\n",
       "    </tr>\n",
       "  </tbody>\n",
       "</table>\n",
       "</div>"
      ],
      "text/plain": [
       "   Store  Dept  Weekly_Sales  IsHoliday  Temperature  Fuel_Price         CPI  \\\n",
       "0      1     1      24924.50      False        42.31       2.572  211.096358   \n",
       "1      1     2      50605.27      False        42.31       2.572  211.096358   \n",
       "2      1     3      13740.12      False        42.31       2.572  211.096358   \n",
       "3      1     4      39954.04      False        42.31       2.572  211.096358   \n",
       "4      1     5      32229.38      False        42.31       2.572  211.096358   \n",
       "\n",
       "   Unemployment Type    Size  Year  Month  Day  \n",
       "0         8.106    A  151315  2010      2    5  \n",
       "1         8.106    A  151315  2010      2    5  \n",
       "2         8.106    A  151315  2010      2    5  \n",
       "3         8.106    A  151315  2010      2    5  \n",
       "4         8.106    A  151315  2010      2    5  "
      ]
     },
     "execution_count": 97,
     "metadata": {},
     "output_type": "execute_result"
    }
   ],
   "source": [
    "data.head()"
   ]
  },
  {
   "cell_type": "code",
   "execution_count": 98,
   "metadata": {},
   "outputs": [],
   "source": [
    "numeric_var_names=[key for key in dict(data.dtypes) if dict(data.dtypes)[key] in ['float64', 'int64', 'float32', 'int32']]\n",
    "cat_var_names=[key for key in dict(data.dtypes) if dict(data.dtypes)[key] in ['object', 'O','bool']]"
   ]
  },
  {
   "cell_type": "code",
   "execution_count": 99,
   "metadata": {},
   "outputs": [
    {
     "data": {
      "text/plain": [
       "['Store',\n",
       " 'Dept',\n",
       " 'Weekly_Sales',\n",
       " 'Temperature',\n",
       " 'Fuel_Price',\n",
       " 'CPI',\n",
       " 'Unemployment',\n",
       " 'Size',\n",
       " 'Year',\n",
       " 'Month',\n",
       " 'Day']"
      ]
     },
     "execution_count": 99,
     "metadata": {},
     "output_type": "execute_result"
    }
   ],
   "source": [
    "numeric_var_names"
   ]
  },
  {
   "cell_type": "code",
   "execution_count": 100,
   "metadata": {},
   "outputs": [
    {
     "data": {
      "text/plain": [
       "['IsHoliday', 'Type']"
      ]
     },
     "execution_count": 100,
     "metadata": {},
     "output_type": "execute_result"
    }
   ],
   "source": [
    "cat_var_names"
   ]
  },
  {
   "cell_type": "code",
   "execution_count": 101,
   "metadata": {},
   "outputs": [
    {
     "data": {
      "text/html": [
       "<div>\n",
       "<style scoped>\n",
       "    .dataframe tbody tr th:only-of-type {\n",
       "        vertical-align: middle;\n",
       "    }\n",
       "\n",
       "    .dataframe tbody tr th {\n",
       "        vertical-align: top;\n",
       "    }\n",
       "\n",
       "    .dataframe thead th {\n",
       "        text-align: right;\n",
       "    }\n",
       "</style>\n",
       "<table border=\"1\" class=\"dataframe\">\n",
       "  <thead>\n",
       "    <tr style=\"text-align: right;\">\n",
       "      <th></th>\n",
       "      <th>Store</th>\n",
       "      <th>Dept</th>\n",
       "      <th>Weekly_Sales</th>\n",
       "      <th>Temperature</th>\n",
       "      <th>Fuel_Price</th>\n",
       "      <th>CPI</th>\n",
       "      <th>Unemployment</th>\n",
       "      <th>Size</th>\n",
       "      <th>Year</th>\n",
       "      <th>Month</th>\n",
       "      <th>Day</th>\n",
       "    </tr>\n",
       "  </thead>\n",
       "  <tbody>\n",
       "    <tr>\n",
       "      <th>0</th>\n",
       "      <td>1</td>\n",
       "      <td>1</td>\n",
       "      <td>24924.50</td>\n",
       "      <td>42.31</td>\n",
       "      <td>2.572</td>\n",
       "      <td>211.096358</td>\n",
       "      <td>8.106</td>\n",
       "      <td>151315</td>\n",
       "      <td>2010</td>\n",
       "      <td>2</td>\n",
       "      <td>5</td>\n",
       "    </tr>\n",
       "    <tr>\n",
       "      <th>1</th>\n",
       "      <td>1</td>\n",
       "      <td>2</td>\n",
       "      <td>50605.27</td>\n",
       "      <td>42.31</td>\n",
       "      <td>2.572</td>\n",
       "      <td>211.096358</td>\n",
       "      <td>8.106</td>\n",
       "      <td>151315</td>\n",
       "      <td>2010</td>\n",
       "      <td>2</td>\n",
       "      <td>5</td>\n",
       "    </tr>\n",
       "    <tr>\n",
       "      <th>2</th>\n",
       "      <td>1</td>\n",
       "      <td>3</td>\n",
       "      <td>13740.12</td>\n",
       "      <td>42.31</td>\n",
       "      <td>2.572</td>\n",
       "      <td>211.096358</td>\n",
       "      <td>8.106</td>\n",
       "      <td>151315</td>\n",
       "      <td>2010</td>\n",
       "      <td>2</td>\n",
       "      <td>5</td>\n",
       "    </tr>\n",
       "    <tr>\n",
       "      <th>3</th>\n",
       "      <td>1</td>\n",
       "      <td>4</td>\n",
       "      <td>39954.04</td>\n",
       "      <td>42.31</td>\n",
       "      <td>2.572</td>\n",
       "      <td>211.096358</td>\n",
       "      <td>8.106</td>\n",
       "      <td>151315</td>\n",
       "      <td>2010</td>\n",
       "      <td>2</td>\n",
       "      <td>5</td>\n",
       "    </tr>\n",
       "    <tr>\n",
       "      <th>4</th>\n",
       "      <td>1</td>\n",
       "      <td>5</td>\n",
       "      <td>32229.38</td>\n",
       "      <td>42.31</td>\n",
       "      <td>2.572</td>\n",
       "      <td>211.096358</td>\n",
       "      <td>8.106</td>\n",
       "      <td>151315</td>\n",
       "      <td>2010</td>\n",
       "      <td>2</td>\n",
       "      <td>5</td>\n",
       "    </tr>\n",
       "  </tbody>\n",
       "</table>\n",
       "</div>"
      ],
      "text/plain": [
       "   Store  Dept  Weekly_Sales  Temperature  Fuel_Price         CPI  \\\n",
       "0      1     1      24924.50        42.31       2.572  211.096358   \n",
       "1      1     2      50605.27        42.31       2.572  211.096358   \n",
       "2      1     3      13740.12        42.31       2.572  211.096358   \n",
       "3      1     4      39954.04        42.31       2.572  211.096358   \n",
       "4      1     5      32229.38        42.31       2.572  211.096358   \n",
       "\n",
       "   Unemployment    Size  Year  Month  Day  \n",
       "0         8.106  151315  2010      2    5  \n",
       "1         8.106  151315  2010      2    5  \n",
       "2         8.106  151315  2010      2    5  \n",
       "3         8.106  151315  2010      2    5  \n",
       "4         8.106  151315  2010      2    5  "
      ]
     },
     "execution_count": 101,
     "metadata": {},
     "output_type": "execute_result"
    }
   ],
   "source": [
    "data_num=data[numeric_var_names]\n",
    "data_num.head(5)"
   ]
  },
  {
   "cell_type": "code",
   "execution_count": 102,
   "metadata": {},
   "outputs": [],
   "source": [
    "# Replace negative and 0 as missing\n",
    "pd.set_option('mode.chained_assignment', None) # For SettingWithCopyWarning\n",
    "data_num[data_num<=0]=np.NaN"
   ]
  },
  {
   "cell_type": "code",
   "execution_count": 103,
   "metadata": {},
   "outputs": [
    {
     "data": {
      "text/html": [
       "<div>\n",
       "<style scoped>\n",
       "    .dataframe tbody tr th:only-of-type {\n",
       "        vertical-align: middle;\n",
       "    }\n",
       "\n",
       "    .dataframe tbody tr th {\n",
       "        vertical-align: top;\n",
       "    }\n",
       "\n",
       "    .dataframe thead th {\n",
       "        text-align: right;\n",
       "    }\n",
       "</style>\n",
       "<table border=\"1\" class=\"dataframe\">\n",
       "  <thead>\n",
       "    <tr style=\"text-align: right;\">\n",
       "      <th></th>\n",
       "      <th>IsHoliday</th>\n",
       "      <th>Type</th>\n",
       "    </tr>\n",
       "  </thead>\n",
       "  <tbody>\n",
       "    <tr>\n",
       "      <th>0</th>\n",
       "      <td>False</td>\n",
       "      <td>A</td>\n",
       "    </tr>\n",
       "    <tr>\n",
       "      <th>1</th>\n",
       "      <td>False</td>\n",
       "      <td>A</td>\n",
       "    </tr>\n",
       "    <tr>\n",
       "      <th>2</th>\n",
       "      <td>False</td>\n",
       "      <td>A</td>\n",
       "    </tr>\n",
       "    <tr>\n",
       "      <th>3</th>\n",
       "      <td>False</td>\n",
       "      <td>A</td>\n",
       "    </tr>\n",
       "    <tr>\n",
       "      <th>4</th>\n",
       "      <td>False</td>\n",
       "      <td>A</td>\n",
       "    </tr>\n",
       "  </tbody>\n",
       "</table>\n",
       "</div>"
      ],
      "text/plain": [
       "   IsHoliday Type\n",
       "0      False    A\n",
       "1      False    A\n",
       "2      False    A\n",
       "3      False    A\n",
       "4      False    A"
      ]
     },
     "execution_count": 103,
     "metadata": {},
     "output_type": "execute_result"
    }
   ],
   "source": [
    "data_cat=data[cat_var_names]\n",
    "data_cat.head(5)"
   ]
  },
  {
   "cell_type": "code",
   "execution_count": 104,
   "metadata": {},
   "outputs": [
    {
     "data": {
      "text/html": [
       "<div>\n",
       "<style scoped>\n",
       "    .dataframe tbody tr th:only-of-type {\n",
       "        vertical-align: middle;\n",
       "    }\n",
       "\n",
       "    .dataframe tbody tr th {\n",
       "        vertical-align: top;\n",
       "    }\n",
       "\n",
       "    .dataframe thead th {\n",
       "        text-align: right;\n",
       "    }\n",
       "</style>\n",
       "<table border=\"1\" class=\"dataframe\">\n",
       "  <thead>\n",
       "    <tr style=\"text-align: right;\">\n",
       "      <th></th>\n",
       "      <th>N</th>\n",
       "      <th>NMISS</th>\n",
       "      <th>SUM</th>\n",
       "      <th>MEAN</th>\n",
       "      <th>MEDIAN</th>\n",
       "      <th>STD</th>\n",
       "      <th>VAR</th>\n",
       "      <th>CV</th>\n",
       "      <th>MIN</th>\n",
       "      <th>P1</th>\n",
       "      <th>P5</th>\n",
       "      <th>P10</th>\n",
       "      <th>P25</th>\n",
       "      <th>P50</th>\n",
       "      <th>P75</th>\n",
       "      <th>P90</th>\n",
       "      <th>P95</th>\n",
       "      <th>P99</th>\n",
       "      <th>MAX</th>\n",
       "    </tr>\n",
       "  </thead>\n",
       "  <tbody>\n",
       "    <tr>\n",
       "      <th>Store</th>\n",
       "      <td>421570.0</td>\n",
       "      <td>0.0</td>\n",
       "      <td>9.359084e+06</td>\n",
       "      <td>22.200546</td>\n",
       "      <td>22.00000</td>\n",
       "      <td>12.785297</td>\n",
       "      <td>1.634638e+02</td>\n",
       "      <td>0.575900</td>\n",
       "      <td>1.000</td>\n",
       "      <td>1.000000</td>\n",
       "      <td>3.000000</td>\n",
       "      <td>5.000000</td>\n",
       "      <td>11.000000</td>\n",
       "      <td>22.00000</td>\n",
       "      <td>33.000000</td>\n",
       "      <td>40.000000</td>\n",
       "      <td>43.000000</td>\n",
       "      <td>45.000000</td>\n",
       "      <td>45.000000</td>\n",
       "    </tr>\n",
       "    <tr>\n",
       "      <th>Dept</th>\n",
       "      <td>421570.0</td>\n",
       "      <td>0.0</td>\n",
       "      <td>1.865882e+07</td>\n",
       "      <td>44.260317</td>\n",
       "      <td>37.00000</td>\n",
       "      <td>30.492054</td>\n",
       "      <td>9.297654e+02</td>\n",
       "      <td>0.688925</td>\n",
       "      <td>1.000</td>\n",
       "      <td>1.000000</td>\n",
       "      <td>4.000000</td>\n",
       "      <td>7.000000</td>\n",
       "      <td>18.000000</td>\n",
       "      <td>37.00000</td>\n",
       "      <td>74.000000</td>\n",
       "      <td>92.000000</td>\n",
       "      <td>95.000000</td>\n",
       "      <td>98.000000</td>\n",
       "      <td>99.000000</td>\n",
       "    </tr>\n",
       "    <tr>\n",
       "      <th>Weekly_Sales</th>\n",
       "      <td>420212.0</td>\n",
       "      <td>1358.0</td>\n",
       "      <td>6.737307e+09</td>\n",
       "      <td>16033.114591</td>\n",
       "      <td>7661.70000</td>\n",
       "      <td>22729.492116</td>\n",
       "      <td>5.166298e+08</td>\n",
       "      <td>1.417659</td>\n",
       "      <td>0.010</td>\n",
       "      <td>7.440000</td>\n",
       "      <td>67.551000</td>\n",
       "      <td>311.186000</td>\n",
       "      <td>2120.130000</td>\n",
       "      <td>7661.70000</td>\n",
       "      <td>20271.265000</td>\n",
       "      <td>42922.748000</td>\n",
       "      <td>61275.522000</td>\n",
       "      <td>106566.351400</td>\n",
       "      <td>693099.360000</td>\n",
       "    </tr>\n",
       "    <tr>\n",
       "      <th>Temperature</th>\n",
       "      <td>421501.0</td>\n",
       "      <td>69.0</td>\n",
       "      <td>2.533231e+07</td>\n",
       "      <td>60.100233</td>\n",
       "      <td>62.09000</td>\n",
       "      <td>18.432294</td>\n",
       "      <td>3.397495e+02</td>\n",
       "      <td>0.306693</td>\n",
       "      <td>5.540</td>\n",
       "      <td>18.360000</td>\n",
       "      <td>27.310000</td>\n",
       "      <td>33.990000</td>\n",
       "      <td>46.700000</td>\n",
       "      <td>62.09000</td>\n",
       "      <td>74.280000</td>\n",
       "      <td>83.580000</td>\n",
       "      <td>87.270000</td>\n",
       "      <td>92.810000</td>\n",
       "      <td>100.140000</td>\n",
       "    </tr>\n",
       "    <tr>\n",
       "      <th>Fuel_Price</th>\n",
       "      <td>421570.0</td>\n",
       "      <td>0.0</td>\n",
       "      <td>1.416908e+06</td>\n",
       "      <td>3.361027</td>\n",
       "      <td>3.45200</td>\n",
       "      <td>0.458515</td>\n",
       "      <td>2.102356e-01</td>\n",
       "      <td>0.136421</td>\n",
       "      <td>2.472</td>\n",
       "      <td>2.565000</td>\n",
       "      <td>2.653000</td>\n",
       "      <td>2.720000</td>\n",
       "      <td>2.933000</td>\n",
       "      <td>3.45200</td>\n",
       "      <td>3.738000</td>\n",
       "      <td>3.917000</td>\n",
       "      <td>4.029000</td>\n",
       "      <td>4.202000</td>\n",
       "      <td>4.468000</td>\n",
       "    </tr>\n",
       "    <tr>\n",
       "      <th>CPI</th>\n",
       "      <td>421570.0</td>\n",
       "      <td>0.0</td>\n",
       "      <td>7.217360e+07</td>\n",
       "      <td>171.201947</td>\n",
       "      <td>182.31878</td>\n",
       "      <td>39.159276</td>\n",
       "      <td>1.533449e+03</td>\n",
       "      <td>0.228731</td>\n",
       "      <td>126.064</td>\n",
       "      <td>126.111903</td>\n",
       "      <td>126.496258</td>\n",
       "      <td>128.823806</td>\n",
       "      <td>132.022667</td>\n",
       "      <td>182.31878</td>\n",
       "      <td>212.416993</td>\n",
       "      <td>219.444244</td>\n",
       "      <td>221.941558</td>\n",
       "      <td>225.473509</td>\n",
       "      <td>227.232807</td>\n",
       "    </tr>\n",
       "    <tr>\n",
       "      <th>Unemployment</th>\n",
       "      <td>421570.0</td>\n",
       "      <td>0.0</td>\n",
       "      <td>3.355819e+06</td>\n",
       "      <td>7.960289</td>\n",
       "      <td>7.86600</td>\n",
       "      <td>1.863296</td>\n",
       "      <td>3.471872e+00</td>\n",
       "      <td>0.234074</td>\n",
       "      <td>3.879</td>\n",
       "      <td>4.156000</td>\n",
       "      <td>5.326000</td>\n",
       "      <td>5.965000</td>\n",
       "      <td>6.891000</td>\n",
       "      <td>7.86600</td>\n",
       "      <td>8.572000</td>\n",
       "      <td>9.816000</td>\n",
       "      <td>12.187000</td>\n",
       "      <td>14.180000</td>\n",
       "      <td>14.313000</td>\n",
       "    </tr>\n",
       "    <tr>\n",
       "      <th>Size</th>\n",
       "      <td>421570.0</td>\n",
       "      <td>0.0</td>\n",
       "      <td>5.764039e+10</td>\n",
       "      <td>136727.915739</td>\n",
       "      <td>140167.00000</td>\n",
       "      <td>60980.583328</td>\n",
       "      <td>3.718632e+09</td>\n",
       "      <td>0.446000</td>\n",
       "      <td>34875.000</td>\n",
       "      <td>34875.000000</td>\n",
       "      <td>39690.000000</td>\n",
       "      <td>39910.000000</td>\n",
       "      <td>93638.000000</td>\n",
       "      <td>140167.00000</td>\n",
       "      <td>202505.000000</td>\n",
       "      <td>204184.000000</td>\n",
       "      <td>206302.000000</td>\n",
       "      <td>219622.000000</td>\n",
       "      <td>219622.000000</td>\n",
       "    </tr>\n",
       "    <tr>\n",
       "      <th>Year</th>\n",
       "      <td>421570.0</td>\n",
       "      <td>0.0</td>\n",
       "      <td>8.477640e+08</td>\n",
       "      <td>2010.968591</td>\n",
       "      <td>2011.00000</td>\n",
       "      <td>0.796876</td>\n",
       "      <td>6.350114e-01</td>\n",
       "      <td>0.000396</td>\n",
       "      <td>2010.000</td>\n",
       "      <td>2010.000000</td>\n",
       "      <td>2010.000000</td>\n",
       "      <td>2010.000000</td>\n",
       "      <td>2010.000000</td>\n",
       "      <td>2011.00000</td>\n",
       "      <td>2012.000000</td>\n",
       "      <td>2012.000000</td>\n",
       "      <td>2012.000000</td>\n",
       "      <td>2012.000000</td>\n",
       "      <td>2012.000000</td>\n",
       "    </tr>\n",
       "    <tr>\n",
       "      <th>Month</th>\n",
       "      <td>421570.0</td>\n",
       "      <td>0.0</td>\n",
       "      <td>2.718920e+06</td>\n",
       "      <td>6.449510</td>\n",
       "      <td>6.00000</td>\n",
       "      <td>3.243217</td>\n",
       "      <td>1.051846e+01</td>\n",
       "      <td>0.502863</td>\n",
       "      <td>1.000</td>\n",
       "      <td>1.000000</td>\n",
       "      <td>1.000000</td>\n",
       "      <td>2.000000</td>\n",
       "      <td>4.000000</td>\n",
       "      <td>6.00000</td>\n",
       "      <td>9.000000</td>\n",
       "      <td>11.000000</td>\n",
       "      <td>12.000000</td>\n",
       "      <td>12.000000</td>\n",
       "      <td>12.000000</td>\n",
       "    </tr>\n",
       "    <tr>\n",
       "      <th>Day</th>\n",
       "      <td>421570.0</td>\n",
       "      <td>0.0</td>\n",
       "      <td>6.607322e+06</td>\n",
       "      <td>15.673131</td>\n",
       "      <td>16.00000</td>\n",
       "      <td>8.753549</td>\n",
       "      <td>7.662462e+01</td>\n",
       "      <td>0.558507</td>\n",
       "      <td>1.000</td>\n",
       "      <td>1.000000</td>\n",
       "      <td>2.000000</td>\n",
       "      <td>4.000000</td>\n",
       "      <td>8.000000</td>\n",
       "      <td>16.00000</td>\n",
       "      <td>23.000000</td>\n",
       "      <td>28.000000</td>\n",
       "      <td>29.000000</td>\n",
       "      <td>31.000000</td>\n",
       "      <td>31.000000</td>\n",
       "    </tr>\n",
       "  </tbody>\n",
       "</table>\n",
       "</div>"
      ],
      "text/plain": [
       "                     N   NMISS           SUM           MEAN        MEDIAN  \\\n",
       "Store         421570.0     0.0  9.359084e+06      22.200546      22.00000   \n",
       "Dept          421570.0     0.0  1.865882e+07      44.260317      37.00000   \n",
       "Weekly_Sales  420212.0  1358.0  6.737307e+09   16033.114591    7661.70000   \n",
       "Temperature   421501.0    69.0  2.533231e+07      60.100233      62.09000   \n",
       "Fuel_Price    421570.0     0.0  1.416908e+06       3.361027       3.45200   \n",
       "CPI           421570.0     0.0  7.217360e+07     171.201947     182.31878   \n",
       "Unemployment  421570.0     0.0  3.355819e+06       7.960289       7.86600   \n",
       "Size          421570.0     0.0  5.764039e+10  136727.915739  140167.00000   \n",
       "Year          421570.0     0.0  8.477640e+08    2010.968591    2011.00000   \n",
       "Month         421570.0     0.0  2.718920e+06       6.449510       6.00000   \n",
       "Day           421570.0     0.0  6.607322e+06      15.673131      16.00000   \n",
       "\n",
       "                       STD           VAR        CV        MIN            P1  \\\n",
       "Store            12.785297  1.634638e+02  0.575900      1.000      1.000000   \n",
       "Dept             30.492054  9.297654e+02  0.688925      1.000      1.000000   \n",
       "Weekly_Sales  22729.492116  5.166298e+08  1.417659      0.010      7.440000   \n",
       "Temperature      18.432294  3.397495e+02  0.306693      5.540     18.360000   \n",
       "Fuel_Price        0.458515  2.102356e-01  0.136421      2.472      2.565000   \n",
       "CPI              39.159276  1.533449e+03  0.228731    126.064    126.111903   \n",
       "Unemployment      1.863296  3.471872e+00  0.234074      3.879      4.156000   \n",
       "Size          60980.583328  3.718632e+09  0.446000  34875.000  34875.000000   \n",
       "Year              0.796876  6.350114e-01  0.000396   2010.000   2010.000000   \n",
       "Month             3.243217  1.051846e+01  0.502863      1.000      1.000000   \n",
       "Day               8.753549  7.662462e+01  0.558507      1.000      1.000000   \n",
       "\n",
       "                        P5           P10           P25           P50  \\\n",
       "Store             3.000000      5.000000     11.000000      22.00000   \n",
       "Dept              4.000000      7.000000     18.000000      37.00000   \n",
       "Weekly_Sales     67.551000    311.186000   2120.130000    7661.70000   \n",
       "Temperature      27.310000     33.990000     46.700000      62.09000   \n",
       "Fuel_Price        2.653000      2.720000      2.933000       3.45200   \n",
       "CPI             126.496258    128.823806    132.022667     182.31878   \n",
       "Unemployment      5.326000      5.965000      6.891000       7.86600   \n",
       "Size          39690.000000  39910.000000  93638.000000  140167.00000   \n",
       "Year           2010.000000   2010.000000   2010.000000    2011.00000   \n",
       "Month             1.000000      2.000000      4.000000       6.00000   \n",
       "Day               2.000000      4.000000      8.000000      16.00000   \n",
       "\n",
       "                        P75            P90            P95            P99  \\\n",
       "Store             33.000000      40.000000      43.000000      45.000000   \n",
       "Dept              74.000000      92.000000      95.000000      98.000000   \n",
       "Weekly_Sales   20271.265000   42922.748000   61275.522000  106566.351400   \n",
       "Temperature       74.280000      83.580000      87.270000      92.810000   \n",
       "Fuel_Price         3.738000       3.917000       4.029000       4.202000   \n",
       "CPI              212.416993     219.444244     221.941558     225.473509   \n",
       "Unemployment       8.572000       9.816000      12.187000      14.180000   \n",
       "Size          202505.000000  204184.000000  206302.000000  219622.000000   \n",
       "Year            2012.000000    2012.000000    2012.000000    2012.000000   \n",
       "Month              9.000000      11.000000      12.000000      12.000000   \n",
       "Day               23.000000      28.000000      29.000000      31.000000   \n",
       "\n",
       "                        MAX  \n",
       "Store             45.000000  \n",
       "Dept              99.000000  \n",
       "Weekly_Sales  693099.360000  \n",
       "Temperature      100.140000  \n",
       "Fuel_Price         4.468000  \n",
       "CPI              227.232807  \n",
       "Unemployment      14.313000  \n",
       "Size          219622.000000  \n",
       "Year            2012.000000  \n",
       "Month             12.000000  \n",
       "Day               31.000000  "
      ]
     },
     "execution_count": 104,
     "metadata": {},
     "output_type": "execute_result"
    }
   ],
   "source": [
    "def var_summary(x):\n",
    "    return pd.Series([x.count(), x.isnull().sum(), x.sum(), x.mean(), x.median(),  x.std(), x.var(), x.std()/x.mean(), x.min(), x.dropna().quantile(0.01), x.dropna().quantile(0.05),x.dropna().quantile(0.10),x.dropna().quantile(0.25),x.dropna().quantile(0.50),x.dropna().quantile(0.75), x.dropna().quantile(0.90),x.dropna().quantile(0.95), x.dropna().quantile(0.99),x.max()], \n",
    "                  index=['N', 'NMISS', 'SUM', 'MEAN','MEDIAN', 'STD', 'VAR', 'CV','MIN', 'P1' , 'P5' ,'P10' ,'P25' ,'P50' ,'P75' ,'P90' ,'P95' ,'P99' ,'MAX'])\n",
    "\n",
    "data_num.apply(var_summary).T"
   ]
  },
  {
   "cell_type": "code",
   "execution_count": 105,
   "metadata": {},
   "outputs": [],
   "source": [
    "num_summary=data_num.apply(var_summary).T\n",
    "num_summary.to_csv('num_summary.csv')"
   ]
  },
  {
   "cell_type": "code",
   "execution_count": 106,
   "metadata": {},
   "outputs": [],
   "source": [
    "def cat_summary(x):\n",
    "    return pd.Series([x.count(), x.isnull().sum(), x.value_counts()], \n",
    "                  index=['N', 'NMISS', 'ColumnsNames'])\n",
    "\n",
    "cat_summary=data_cat.apply(cat_summary)"
   ]
  },
  {
   "cell_type": "code",
   "execution_count": 107,
   "metadata": {},
   "outputs": [
    {
     "data": {
      "text/html": [
       "<div>\n",
       "<style scoped>\n",
       "    .dataframe tbody tr th:only-of-type {\n",
       "        vertical-align: middle;\n",
       "    }\n",
       "\n",
       "    .dataframe tbody tr th {\n",
       "        vertical-align: top;\n",
       "    }\n",
       "\n",
       "    .dataframe thead th {\n",
       "        text-align: right;\n",
       "    }\n",
       "</style>\n",
       "<table border=\"1\" class=\"dataframe\">\n",
       "  <thead>\n",
       "    <tr style=\"text-align: right;\">\n",
       "      <th></th>\n",
       "      <th>IsHoliday</th>\n",
       "      <th>Type</th>\n",
       "    </tr>\n",
       "  </thead>\n",
       "  <tbody>\n",
       "    <tr>\n",
       "      <th>N</th>\n",
       "      <td>421570</td>\n",
       "      <td>421570</td>\n",
       "    </tr>\n",
       "    <tr>\n",
       "      <th>NMISS</th>\n",
       "      <td>0</td>\n",
       "      <td>0</td>\n",
       "    </tr>\n",
       "    <tr>\n",
       "      <th>ColumnsNames</th>\n",
       "      <td>False    391909\n",
       "True      29661\n",
       "Name: IsHolida...</td>\n",
       "      <td>A    215478\n",
       "B    163495\n",
       "C     42597\n",
       "Name: Type...</td>\n",
       "    </tr>\n",
       "  </tbody>\n",
       "</table>\n",
       "</div>"
      ],
      "text/plain": [
       "                                                      IsHoliday  \\\n",
       "N                                                        421570   \n",
       "NMISS                                                         0   \n",
       "ColumnsNames  False    391909\n",
       "True      29661\n",
       "Name: IsHolida...   \n",
       "\n",
       "                                                           Type  \n",
       "N                                                        421570  \n",
       "NMISS                                                         0  \n",
       "ColumnsNames  A    215478\n",
       "B    163495\n",
       "C     42597\n",
       "Name: Type...  "
      ]
     },
     "execution_count": 107,
     "metadata": {},
     "output_type": "execute_result"
    }
   ],
   "source": [
    "cat_summary"
   ]
  },
  {
   "cell_type": "code",
   "execution_count": 108,
   "metadata": {},
   "outputs": [],
   "source": [
    "#Handling Outliers\n",
    "def outlier_capping(x):\n",
    "    x = x.clip(upper=x.quantile(0.99))\n",
    "    x = x.clip(lower=x.quantile(0.01))\n",
    "    return x\n",
    "\n",
    "data_num=data_num.apply(outlier_capping)"
   ]
  },
  {
   "cell_type": "code",
   "execution_count": 109,
   "metadata": {},
   "outputs": [],
   "source": [
    "#Handling missings\n",
    "def Missing_imputation(x):\n",
    "    x = x.fillna(x.median())\n",
    "    return x\n",
    "\n",
    "data_num=data_num.apply(Missing_imputation)"
   ]
  },
  {
   "cell_type": "code",
   "execution_count": 110,
   "metadata": {},
   "outputs": [],
   "source": [
    "# An utility function to create dummy variable\n",
    "def create_dummies( df, colname ):\n",
    "    col_dummies = pd.get_dummies(df[colname], prefix=colname, drop_first=True)\n",
    "    df = pd.concat([df, col_dummies], axis=1)\n",
    "    df.drop( colname, axis = 1, inplace = True )\n",
    "    return df"
   ]
  },
  {
   "cell_type": "code",
   "execution_count": 111,
   "metadata": {},
   "outputs": [],
   "source": [
    "for c_feature in ['IsHoliday', 'Type']:\n",
    "        data_cat.loc[:,c_feature] = data_cat[c_feature].astype('category')\n",
    "        data_cat = create_dummies(data_cat , c_feature )"
   ]
  },
  {
   "cell_type": "code",
   "execution_count": 112,
   "metadata": {},
   "outputs": [
    {
     "data": {
      "text/html": [
       "<div>\n",
       "<style scoped>\n",
       "    .dataframe tbody tr th:only-of-type {\n",
       "        vertical-align: middle;\n",
       "    }\n",
       "\n",
       "    .dataframe tbody tr th {\n",
       "        vertical-align: top;\n",
       "    }\n",
       "\n",
       "    .dataframe thead th {\n",
       "        text-align: right;\n",
       "    }\n",
       "</style>\n",
       "<table border=\"1\" class=\"dataframe\">\n",
       "  <thead>\n",
       "    <tr style=\"text-align: right;\">\n",
       "      <th></th>\n",
       "      <th>IsHoliday_True</th>\n",
       "      <th>Type_B</th>\n",
       "      <th>Type_C</th>\n",
       "    </tr>\n",
       "  </thead>\n",
       "  <tbody>\n",
       "    <tr>\n",
       "      <th>0</th>\n",
       "      <td>0</td>\n",
       "      <td>0</td>\n",
       "      <td>0</td>\n",
       "    </tr>\n",
       "    <tr>\n",
       "      <th>1</th>\n",
       "      <td>0</td>\n",
       "      <td>0</td>\n",
       "      <td>0</td>\n",
       "    </tr>\n",
       "    <tr>\n",
       "      <th>2</th>\n",
       "      <td>0</td>\n",
       "      <td>0</td>\n",
       "      <td>0</td>\n",
       "    </tr>\n",
       "    <tr>\n",
       "      <th>3</th>\n",
       "      <td>0</td>\n",
       "      <td>0</td>\n",
       "      <td>0</td>\n",
       "    </tr>\n",
       "    <tr>\n",
       "      <th>4</th>\n",
       "      <td>0</td>\n",
       "      <td>0</td>\n",
       "      <td>0</td>\n",
       "    </tr>\n",
       "  </tbody>\n",
       "</table>\n",
       "</div>"
      ],
      "text/plain": [
       "   IsHoliday_True  Type_B  Type_C\n",
       "0               0       0       0\n",
       "1               0       0       0\n",
       "2               0       0       0\n",
       "3               0       0       0\n",
       "4               0       0       0"
      ]
     },
     "execution_count": 112,
     "metadata": {},
     "output_type": "execute_result"
    }
   ],
   "source": [
    "data_cat.head()"
   ]
  },
  {
   "cell_type": "code",
   "execution_count": 113,
   "metadata": {},
   "outputs": [
    {
     "data": {
      "text/html": [
       "<div>\n",
       "<style scoped>\n",
       "    .dataframe tbody tr th:only-of-type {\n",
       "        vertical-align: middle;\n",
       "    }\n",
       "\n",
       "    .dataframe tbody tr th {\n",
       "        vertical-align: top;\n",
       "    }\n",
       "\n",
       "    .dataframe thead th {\n",
       "        text-align: right;\n",
       "    }\n",
       "</style>\n",
       "<table border=\"1\" class=\"dataframe\">\n",
       "  <thead>\n",
       "    <tr style=\"text-align: right;\">\n",
       "      <th></th>\n",
       "      <th>Store</th>\n",
       "      <th>Dept</th>\n",
       "      <th>Weekly_Sales</th>\n",
       "      <th>Temperature</th>\n",
       "      <th>Fuel_Price</th>\n",
       "      <th>CPI</th>\n",
       "      <th>Unemployment</th>\n",
       "      <th>Size</th>\n",
       "      <th>Year</th>\n",
       "      <th>Month</th>\n",
       "      <th>Day</th>\n",
       "      <th>IsHoliday_True</th>\n",
       "      <th>Type_B</th>\n",
       "      <th>Type_C</th>\n",
       "    </tr>\n",
       "  </thead>\n",
       "  <tbody>\n",
       "    <tr>\n",
       "      <th>0</th>\n",
       "      <td>1</td>\n",
       "      <td>1</td>\n",
       "      <td>24924.50</td>\n",
       "      <td>42.31</td>\n",
       "      <td>2.572</td>\n",
       "      <td>211.096358</td>\n",
       "      <td>8.106</td>\n",
       "      <td>151315</td>\n",
       "      <td>2010</td>\n",
       "      <td>2</td>\n",
       "      <td>5</td>\n",
       "      <td>0</td>\n",
       "      <td>0</td>\n",
       "      <td>0</td>\n",
       "    </tr>\n",
       "    <tr>\n",
       "      <th>1</th>\n",
       "      <td>1</td>\n",
       "      <td>2</td>\n",
       "      <td>50605.27</td>\n",
       "      <td>42.31</td>\n",
       "      <td>2.572</td>\n",
       "      <td>211.096358</td>\n",
       "      <td>8.106</td>\n",
       "      <td>151315</td>\n",
       "      <td>2010</td>\n",
       "      <td>2</td>\n",
       "      <td>5</td>\n",
       "      <td>0</td>\n",
       "      <td>0</td>\n",
       "      <td>0</td>\n",
       "    </tr>\n",
       "    <tr>\n",
       "      <th>2</th>\n",
       "      <td>1</td>\n",
       "      <td>3</td>\n",
       "      <td>13740.12</td>\n",
       "      <td>42.31</td>\n",
       "      <td>2.572</td>\n",
       "      <td>211.096358</td>\n",
       "      <td>8.106</td>\n",
       "      <td>151315</td>\n",
       "      <td>2010</td>\n",
       "      <td>2</td>\n",
       "      <td>5</td>\n",
       "      <td>0</td>\n",
       "      <td>0</td>\n",
       "      <td>0</td>\n",
       "    </tr>\n",
       "    <tr>\n",
       "      <th>3</th>\n",
       "      <td>1</td>\n",
       "      <td>4</td>\n",
       "      <td>39954.04</td>\n",
       "      <td>42.31</td>\n",
       "      <td>2.572</td>\n",
       "      <td>211.096358</td>\n",
       "      <td>8.106</td>\n",
       "      <td>151315</td>\n",
       "      <td>2010</td>\n",
       "      <td>2</td>\n",
       "      <td>5</td>\n",
       "      <td>0</td>\n",
       "      <td>0</td>\n",
       "      <td>0</td>\n",
       "    </tr>\n",
       "    <tr>\n",
       "      <th>4</th>\n",
       "      <td>1</td>\n",
       "      <td>5</td>\n",
       "      <td>32229.38</td>\n",
       "      <td>42.31</td>\n",
       "      <td>2.572</td>\n",
       "      <td>211.096358</td>\n",
       "      <td>8.106</td>\n",
       "      <td>151315</td>\n",
       "      <td>2010</td>\n",
       "      <td>2</td>\n",
       "      <td>5</td>\n",
       "      <td>0</td>\n",
       "      <td>0</td>\n",
       "      <td>0</td>\n",
       "    </tr>\n",
       "  </tbody>\n",
       "</table>\n",
       "</div>"
      ],
      "text/plain": [
       "   Store  Dept  Weekly_Sales  Temperature  Fuel_Price         CPI  \\\n",
       "0      1     1      24924.50        42.31       2.572  211.096358   \n",
       "1      1     2      50605.27        42.31       2.572  211.096358   \n",
       "2      1     3      13740.12        42.31       2.572  211.096358   \n",
       "3      1     4      39954.04        42.31       2.572  211.096358   \n",
       "4      1     5      32229.38        42.31       2.572  211.096358   \n",
       "\n",
       "   Unemployment    Size  Year  Month  Day  IsHoliday_True  Type_B  Type_C  \n",
       "0         8.106  151315  2010      2    5               0       0       0  \n",
       "1         8.106  151315  2010      2    5               0       0       0  \n",
       "2         8.106  151315  2010      2    5               0       0       0  \n",
       "3         8.106  151315  2010      2    5               0       0       0  \n",
       "4         8.106  151315  2010      2    5               0       0       0  "
      ]
     },
     "execution_count": 113,
     "metadata": {},
     "output_type": "execute_result"
    }
   ],
   "source": [
    "data = pd.concat([data_num, data_cat], axis=1)\n",
    "data.head()"
   ]
  },
  {
   "cell_type": "code",
   "execution_count": 114,
   "metadata": {},
   "outputs": [
    {
     "data": {
      "text/html": [
       "<div>\n",
       "<style scoped>\n",
       "    .dataframe tbody tr th:only-of-type {\n",
       "        vertical-align: middle;\n",
       "    }\n",
       "\n",
       "    .dataframe tbody tr th {\n",
       "        vertical-align: top;\n",
       "    }\n",
       "\n",
       "    .dataframe thead th {\n",
       "        text-align: right;\n",
       "    }\n",
       "</style>\n",
       "<table border=\"1\" class=\"dataframe\">\n",
       "  <thead>\n",
       "    <tr style=\"text-align: right;\">\n",
       "      <th></th>\n",
       "      <th>Store</th>\n",
       "      <th>Dept</th>\n",
       "      <th>Weekly_Sales</th>\n",
       "      <th>Temperature</th>\n",
       "      <th>Fuel_Price</th>\n",
       "      <th>CPI</th>\n",
       "      <th>Unemployment</th>\n",
       "      <th>Size</th>\n",
       "      <th>Year</th>\n",
       "      <th>Month</th>\n",
       "      <th>Day</th>\n",
       "      <th>IsHoliday_True</th>\n",
       "      <th>Type_B</th>\n",
       "      <th>Type_C</th>\n",
       "    </tr>\n",
       "  </thead>\n",
       "  <tbody>\n",
       "    <tr>\n",
       "      <th>Store</th>\n",
       "      <td>1.000000</td>\n",
       "      <td>0.024011</td>\n",
       "      <td>-0.083732</td>\n",
       "      <td>-0.052251</td>\n",
       "      <td>0.064984</td>\n",
       "      <td>-0.210949</td>\n",
       "      <td>0.208671</td>\n",
       "      <td>-0.182881</td>\n",
       "      <td>0.002997</td>\n",
       "      <td>0.001011</td>\n",
       "      <td>-0.000015</td>\n",
       "      <td>-0.000548</td>\n",
       "      <td>-0.233461</td>\n",
       "      <td>0.439004</td>\n",
       "    </tr>\n",
       "    <tr>\n",
       "      <th>Dept</th>\n",
       "      <td>0.024011</td>\n",
       "      <td>1.000000</td>\n",
       "      <td>0.143319</td>\n",
       "      <td>0.004383</td>\n",
       "      <td>0.003514</td>\n",
       "      <td>-0.007483</td>\n",
       "      <td>0.007874</td>\n",
       "      <td>-0.003022</td>\n",
       "      <td>0.003688</td>\n",
       "      <td>0.000894</td>\n",
       "      <td>-0.000664</td>\n",
       "      <td>0.000906</td>\n",
       "      <td>-0.029920</td>\n",
       "      <td>0.028344</td>\n",
       "    </tr>\n",
       "    <tr>\n",
       "      <th>Weekly_Sales</th>\n",
       "      <td>-0.083732</td>\n",
       "      <td>0.143319</td>\n",
       "      <td>1.000000</td>\n",
       "      <td>0.000576</td>\n",
       "      <td>0.001502</td>\n",
       "      <td>-0.022807</td>\n",
       "      <td>-0.025323</td>\n",
       "      <td>0.252590</td>\n",
       "      <td>-0.009287</td>\n",
       "      <td>0.025578</td>\n",
       "      <td>-0.007982</td>\n",
       "      <td>0.007948</td>\n",
       "      <td>-0.134705</td>\n",
       "      <td>-0.099054</td>\n",
       "    </tr>\n",
       "    <tr>\n",
       "      <th>Temperature</th>\n",
       "      <td>-0.052251</td>\n",
       "      <td>0.004383</td>\n",
       "      <td>0.000576</td>\n",
       "      <td>1.000000</td>\n",
       "      <td>0.142011</td>\n",
       "      <td>0.184608</td>\n",
       "      <td>0.095511</td>\n",
       "      <td>-0.059287</td>\n",
       "      <td>0.066476</td>\n",
       "      <td>0.234499</td>\n",
       "      <td>0.025848</td>\n",
       "      <td>-0.156730</td>\n",
       "      <td>-0.107740</td>\n",
       "      <td>0.135709</td>\n",
       "    </tr>\n",
       "    <tr>\n",
       "      <th>Fuel_Price</th>\n",
       "      <td>0.064984</td>\n",
       "      <td>0.003514</td>\n",
       "      <td>0.001502</td>\n",
       "      <td>0.142011</td>\n",
       "      <td>1.000000</td>\n",
       "      <td>-0.162609</td>\n",
       "      <td>-0.034938</td>\n",
       "      <td>0.004468</td>\n",
       "      <td>0.780315</td>\n",
       "      <td>-0.042186</td>\n",
       "      <td>0.028013</td>\n",
       "      <td>-0.077839</td>\n",
       "      <td>0.037372</td>\n",
       "      <td>0.001369</td>\n",
       "    </tr>\n",
       "    <tr>\n",
       "      <th>CPI</th>\n",
       "      <td>-0.210949</td>\n",
       "      <td>-0.007483</td>\n",
       "      <td>-0.022807</td>\n",
       "      <td>0.184608</td>\n",
       "      <td>-0.162609</td>\n",
       "      <td>1.000000</td>\n",
       "      <td>-0.300190</td>\n",
       "      <td>-0.003307</td>\n",
       "      <td>0.074335</td>\n",
       "      <td>0.005130</td>\n",
       "      <td>0.002701</td>\n",
       "      <td>-0.001934</td>\n",
       "      <td>-0.081883</td>\n",
       "      <td>-0.006557</td>\n",
       "    </tr>\n",
       "    <tr>\n",
       "      <th>Unemployment</th>\n",
       "      <td>0.208671</td>\n",
       "      <td>0.007874</td>\n",
       "      <td>-0.025323</td>\n",
       "      <td>0.095511</td>\n",
       "      <td>-0.034938</td>\n",
       "      <td>-0.300190</td>\n",
       "      <td>1.000000</td>\n",
       "      <td>-0.068099</td>\n",
       "      <td>-0.236754</td>\n",
       "      <td>-0.012963</td>\n",
       "      <td>-0.003802</td>\n",
       "      <td>0.010305</td>\n",
       "      <td>-0.013574</td>\n",
       "      <td>0.175291</td>\n",
       "    </tr>\n",
       "    <tr>\n",
       "      <th>Size</th>\n",
       "      <td>-0.182881</td>\n",
       "      <td>-0.003022</td>\n",
       "      <td>0.252590</td>\n",
       "      <td>-0.059287</td>\n",
       "      <td>0.004468</td>\n",
       "      <td>-0.003307</td>\n",
       "      <td>-0.068099</td>\n",
       "      <td>1.000000</td>\n",
       "      <td>-0.004975</td>\n",
       "      <td>-0.001210</td>\n",
       "      <td>-0.000386</td>\n",
       "      <td>0.000593</td>\n",
       "      <td>-0.455646</td>\n",
       "      <td>-0.528852</td>\n",
       "    </tr>\n",
       "    <tr>\n",
       "      <th>Year</th>\n",
       "      <td>0.002997</td>\n",
       "      <td>0.003688</td>\n",
       "      <td>-0.009287</td>\n",
       "      <td>0.066476</td>\n",
       "      <td>0.780315</td>\n",
       "      <td>0.074335</td>\n",
       "      <td>-0.236754</td>\n",
       "      <td>-0.004975</td>\n",
       "      <td>1.000000</td>\n",
       "      <td>-0.194288</td>\n",
       "      <td>0.005835</td>\n",
       "      <td>-0.056746</td>\n",
       "      <td>-0.000732</td>\n",
       "      <td>0.005244</td>\n",
       "    </tr>\n",
       "    <tr>\n",
       "      <th>Month</th>\n",
       "      <td>0.001011</td>\n",
       "      <td>0.000894</td>\n",
       "      <td>0.025578</td>\n",
       "      <td>0.234499</td>\n",
       "      <td>-0.042186</td>\n",
       "      <td>0.005130</td>\n",
       "      <td>-0.012963</td>\n",
       "      <td>-0.001210</td>\n",
       "      <td>-0.194288</td>\n",
       "      <td>1.000000</td>\n",
       "      <td>0.016363</td>\n",
       "      <td>0.123376</td>\n",
       "      <td>0.000019</td>\n",
       "      <td>-0.000092</td>\n",
       "    </tr>\n",
       "    <tr>\n",
       "      <th>Day</th>\n",
       "      <td>-0.000015</td>\n",
       "      <td>-0.000664</td>\n",
       "      <td>-0.007982</td>\n",
       "      <td>0.025848</td>\n",
       "      <td>0.028013</td>\n",
       "      <td>0.002701</td>\n",
       "      <td>-0.003802</td>\n",
       "      <td>-0.000386</td>\n",
       "      <td>0.005835</td>\n",
       "      <td>0.016363</td>\n",
       "      <td>1.000000</td>\n",
       "      <td>0.045465</td>\n",
       "      <td>0.000503</td>\n",
       "      <td>-0.000098</td>\n",
       "    </tr>\n",
       "    <tr>\n",
       "      <th>IsHoliday_True</th>\n",
       "      <td>-0.000548</td>\n",
       "      <td>0.000906</td>\n",
       "      <td>0.007948</td>\n",
       "      <td>-0.156730</td>\n",
       "      <td>-0.077839</td>\n",
       "      <td>-0.001934</td>\n",
       "      <td>0.010305</td>\n",
       "      <td>0.000593</td>\n",
       "      <td>-0.056746</td>\n",
       "      <td>0.123376</td>\n",
       "      <td>0.045465</td>\n",
       "      <td>1.000000</td>\n",
       "      <td>0.000167</td>\n",
       "      <td>-0.001017</td>\n",
       "    </tr>\n",
       "    <tr>\n",
       "      <th>Type_B</th>\n",
       "      <td>-0.233461</td>\n",
       "      <td>-0.029920</td>\n",
       "      <td>-0.134705</td>\n",
       "      <td>-0.107740</td>\n",
       "      <td>0.037372</td>\n",
       "      <td>-0.081883</td>\n",
       "      <td>-0.013574</td>\n",
       "      <td>-0.455646</td>\n",
       "      <td>-0.000732</td>\n",
       "      <td>0.000019</td>\n",
       "      <td>0.000503</td>\n",
       "      <td>0.000167</td>\n",
       "      <td>1.000000</td>\n",
       "      <td>-0.266848</td>\n",
       "    </tr>\n",
       "    <tr>\n",
       "      <th>Type_C</th>\n",
       "      <td>0.439004</td>\n",
       "      <td>0.028344</td>\n",
       "      <td>-0.099054</td>\n",
       "      <td>0.135709</td>\n",
       "      <td>0.001369</td>\n",
       "      <td>-0.006557</td>\n",
       "      <td>0.175291</td>\n",
       "      <td>-0.528852</td>\n",
       "      <td>0.005244</td>\n",
       "      <td>-0.000092</td>\n",
       "      <td>-0.000098</td>\n",
       "      <td>-0.001017</td>\n",
       "      <td>-0.266848</td>\n",
       "      <td>1.000000</td>\n",
       "    </tr>\n",
       "  </tbody>\n",
       "</table>\n",
       "</div>"
      ],
      "text/plain": [
       "                   Store      Dept  Weekly_Sales  Temperature  Fuel_Price  \\\n",
       "Store           1.000000  0.024011     -0.083732    -0.052251    0.064984   \n",
       "Dept            0.024011  1.000000      0.143319     0.004383    0.003514   \n",
       "Weekly_Sales   -0.083732  0.143319      1.000000     0.000576    0.001502   \n",
       "Temperature    -0.052251  0.004383      0.000576     1.000000    0.142011   \n",
       "Fuel_Price      0.064984  0.003514      0.001502     0.142011    1.000000   \n",
       "CPI            -0.210949 -0.007483     -0.022807     0.184608   -0.162609   \n",
       "Unemployment    0.208671  0.007874     -0.025323     0.095511   -0.034938   \n",
       "Size           -0.182881 -0.003022      0.252590    -0.059287    0.004468   \n",
       "Year            0.002997  0.003688     -0.009287     0.066476    0.780315   \n",
       "Month           0.001011  0.000894      0.025578     0.234499   -0.042186   \n",
       "Day            -0.000015 -0.000664     -0.007982     0.025848    0.028013   \n",
       "IsHoliday_True -0.000548  0.000906      0.007948    -0.156730   -0.077839   \n",
       "Type_B         -0.233461 -0.029920     -0.134705    -0.107740    0.037372   \n",
       "Type_C          0.439004  0.028344     -0.099054     0.135709    0.001369   \n",
       "\n",
       "                     CPI  Unemployment      Size      Year     Month  \\\n",
       "Store          -0.210949      0.208671 -0.182881  0.002997  0.001011   \n",
       "Dept           -0.007483      0.007874 -0.003022  0.003688  0.000894   \n",
       "Weekly_Sales   -0.022807     -0.025323  0.252590 -0.009287  0.025578   \n",
       "Temperature     0.184608      0.095511 -0.059287  0.066476  0.234499   \n",
       "Fuel_Price     -0.162609     -0.034938  0.004468  0.780315 -0.042186   \n",
       "CPI             1.000000     -0.300190 -0.003307  0.074335  0.005130   \n",
       "Unemployment   -0.300190      1.000000 -0.068099 -0.236754 -0.012963   \n",
       "Size           -0.003307     -0.068099  1.000000 -0.004975 -0.001210   \n",
       "Year            0.074335     -0.236754 -0.004975  1.000000 -0.194288   \n",
       "Month           0.005130     -0.012963 -0.001210 -0.194288  1.000000   \n",
       "Day             0.002701     -0.003802 -0.000386  0.005835  0.016363   \n",
       "IsHoliday_True -0.001934      0.010305  0.000593 -0.056746  0.123376   \n",
       "Type_B         -0.081883     -0.013574 -0.455646 -0.000732  0.000019   \n",
       "Type_C         -0.006557      0.175291 -0.528852  0.005244 -0.000092   \n",
       "\n",
       "                     Day  IsHoliday_True    Type_B    Type_C  \n",
       "Store          -0.000015       -0.000548 -0.233461  0.439004  \n",
       "Dept           -0.000664        0.000906 -0.029920  0.028344  \n",
       "Weekly_Sales   -0.007982        0.007948 -0.134705 -0.099054  \n",
       "Temperature     0.025848       -0.156730 -0.107740  0.135709  \n",
       "Fuel_Price      0.028013       -0.077839  0.037372  0.001369  \n",
       "CPI             0.002701       -0.001934 -0.081883 -0.006557  \n",
       "Unemployment   -0.003802        0.010305 -0.013574  0.175291  \n",
       "Size           -0.000386        0.000593 -0.455646 -0.528852  \n",
       "Year            0.005835       -0.056746 -0.000732  0.005244  \n",
       "Month           0.016363        0.123376  0.000019 -0.000092  \n",
       "Day             1.000000        0.045465  0.000503 -0.000098  \n",
       "IsHoliday_True  0.045465        1.000000  0.000167 -0.001017  \n",
       "Type_B          0.000503        0.000167  1.000000 -0.266848  \n",
       "Type_C         -0.000098       -0.001017 -0.266848  1.000000  "
      ]
     },
     "execution_count": 114,
     "metadata": {},
     "output_type": "execute_result"
    }
   ],
   "source": [
    "corrm=data.corr()\n",
    "corrm.to_csv('corrm.csv')\n",
    "corrm"
   ]
  },
  {
   "cell_type": "code",
   "execution_count": 115,
   "metadata": {},
   "outputs": [
    {
     "data": {
      "text/plain": [
       "<matplotlib.axes._subplots.AxesSubplot at 0x19d5eac9c08>"
      ]
     },
     "execution_count": 115,
     "metadata": {},
     "output_type": "execute_result"
    },
    {
     "data": {
      "image/png": "[encoded data removed]",
      "text/plain": [
       "<Figure size 432x288 with 2 Axes>"
      ]
     },
     "metadata": {
      "needs_background": "light"
     },
     "output_type": "display_data"
    }
   ],
   "source": [
    "# visualize correlation matrix in Seaborn using a heatmap\n",
    "sns.heatmap(data.corr())"
   ]
  },
  {
   "cell_type": "code",
   "execution_count": 116,
   "metadata": {},
   "outputs": [
    {
     "data": {
      "text/plain": [
       "Index(['Store', 'Dept', 'Weekly_Sales', 'Temperature', 'Fuel_Price', 'CPI',\n",
       "       'Unemployment', 'Size', 'Year', 'Month', 'Day', 'IsHoliday_True',\n",
       "       'Type_B', 'Type_C'],\n",
       "      dtype='object')"
      ]
     },
     "execution_count": 116,
     "metadata": {},
     "output_type": "execute_result"
    }
   ],
   "source": [
    "data.columns\n"
   ]
  },
  {
   "cell_type": "code",
   "execution_count": 117,
   "metadata": {},
   "outputs": [],
   "source": [
    "lm=smf.ols('Weekly_Sales~Store+Dept+Temperature+Fuel_Price+CPI+Unemployment+Size+Year+Month+Day+IsHoliday_True++Type_C', data).fit()"
   ]
  },
  {
   "cell_type": "code",
   "execution_count": 118,
   "metadata": {},
   "outputs": [
    {
     "name": "stdout",
     "output_type": "stream",
     "text": [
      "                            OLS Regression Results                            \n",
      "==============================================================================\n",
      "Dep. Variable:           Weekly_Sales   R-squared:                       0.092\n",
      "Model:                            OLS   Adj. R-squared:                  0.092\n",
      "Method:                 Least Squares   F-statistic:                     3565.\n",
      "Date:                Sat, 08 Aug 2020   Prob (F-statistic):               0.00\n",
      "Time:                        22:51:33   Log-Likelihood:            -4.7688e+06\n",
      "No. Observations:              421570   AIC:                         9.538e+06\n",
      "Df Residuals:                  421557   BIC:                         9.538e+06\n",
      "Df Model:                          12                                         \n",
      "Covariance Type:            nonrobust                                         \n",
      "==================================================================================\n",
      "                     coef    std err          t      P>|t|      [0.025      0.975]\n",
      "----------------------------------------------------------------------------------\n",
      "Intercept       6.153e+05   1.41e+05      4.364      0.000    3.39e+05    8.92e+05\n",
      "Store           -123.3926      2.765    -44.626      0.000    -128.812    -117.973\n",
      "Dept              97.7619      1.000     97.722      0.000      95.801      99.723\n",
      "Temperature        8.5571      1.874      4.566      0.000       4.884      12.230\n",
      "Fuel_Price       302.0885    120.409      2.509      0.012      66.090     538.087\n",
      "CPI              -22.4223      0.902    -24.857      0.000     -24.190     -20.654\n",
      "Unemployment    -240.0170     18.626    -12.886      0.000    -276.523    -203.511\n",
      "Size               0.0957      0.001    162.021      0.000       0.095       0.097\n",
      "Year            -303.9263     70.265     -4.325      0.000    -441.644    -166.209\n",
      "Month            136.9573     10.266     13.340      0.000     116.835     157.079\n",
      "Day              -20.6505      3.491     -5.916      0.000     -27.492     -13.809\n",
      "IsHoliday_True   538.1171    122.994      4.375      0.000     297.053     779.182\n",
      "Type_C          5603.5887    133.762     41.892      0.000    5341.419    5865.758\n",
      "==============================================================================\n",
      "Omnibus:                   160041.822   Durbin-Watson:                   1.275\n",
      "Prob(Omnibus):                  0.000   Jarque-Bera (JB):           583787.922\n",
      "Skew:                           1.931   Prob(JB):                         0.00\n",
      "Kurtosis:                       7.280   Cond. No.                     6.93e+08\n",
      "==============================================================================\n",
      "\n",
      "Warnings:\n",
      "[1] Standard Errors assume that the covariance matrix of the errors is correctly specified.\n",
      "[2] The condition number is large, 6.93e+08. This might indicate that there are\n",
      "strong multicollinearity or other numerical problems.\n"
     ]
    }
   ],
   "source": [
    "print(lm.summary())"
   ]
  },
  {
   "cell_type": "code",
   "execution_count": 119,
   "metadata": {},
   "outputs": [],
   "source": [
    "data.drop('Type_B',axis=1,inplace=True)"
   ]
  },
  {
   "cell_type": "code",
   "execution_count": 120,
   "metadata": {},
   "outputs": [],
   "source": [
    "X=data[data.columns.difference(['Weekly_Sales'])]\n",
    "y=data['Weekly_Sales']"
   ]
  },
  {
   "cell_type": "code",
   "execution_count": 121,
   "metadata": {},
   "outputs": [],
   "source": [
    "from sklearn.model_selection import train_test_split"
   ]
  },
  {
   "cell_type": "code",
   "execution_count": 122,
   "metadata": {},
   "outputs": [],
   "source": [
    "X_train, X_test, y_train, y_test = train_test_split(X, y, test_size=0.3, random_state=42)"
   ]
  },
  {
   "cell_type": "code",
   "execution_count": 123,
   "metadata": {},
   "outputs": [],
   "source": [
    "#Decission Tree\n",
    "\n",
    "from sklearn.tree import DecisionTreeRegressor  \n",
    "from sklearn.model_selection import cross_val_predict"
   ]
  },
  {
   "cell_type": "code",
   "execution_count": 124,
   "metadata": {},
   "outputs": [
    {
     "data": {
      "text/plain": [
       "DecisionTreeRegressor(criterion='mse', max_depth=5, max_features=None,\n",
       "                      max_leaf_nodes=None, min_impurity_decrease=0.0,\n",
       "                      min_impurity_split=None, min_samples_leaf=1,\n",
       "                      min_samples_split=2, min_weight_fraction_leaf=0.0,\n",
       "                      presort=False, random_state=0, splitter='best')"
      ]
     },
     "execution_count": 124,
     "metadata": {},
     "output_type": "execute_result"
    }
   ],
   "source": [
    "regressor = DecisionTreeRegressor(max_depth=5,random_state=0)  \n",
    "regressor.fit(X_train, y_train)"
   ]
  },
  {
   "cell_type": "code",
   "execution_count": 125,
   "metadata": {},
   "outputs": [],
   "source": [
    "pred=regressor.predict(X_train)\n",
    "y_pred=regressor.predict(X_test)"
   ]
  },
  {
   "cell_type": "code",
   "execution_count": 126,
   "metadata": {},
   "outputs": [
    {
     "name": "stdout",
     "output_type": "stream",
     "text": [
      "Train : \n",
      "Mean Absolute Error: 9113.460578665334\n",
      "Mean Squared Error: 191174213.57522035\n",
      "Root Mean Squared Error: 13826.57635046436\n"
     ]
    }
   ],
   "source": [
    "print('Train : ')\n",
    "print('Mean Absolute Error:', metrics.mean_absolute_error(y_train, pred))  \n",
    "print('Mean Squared Error:', metrics.mean_squared_error(y_train, pred))  \n",
    "print('Root Mean Squared Error:', np.sqrt(metrics.mean_squared_error(y_train, pred)))"
   ]
  },
  {
   "cell_type": "code",
   "execution_count": 127,
   "metadata": {
    "scrolled": true
   },
   "outputs": [
    {
     "name": "stdout",
     "output_type": "stream",
     "text": [
      "Test : \n",
      "Mean Absolute Error: 9186.83618067357\n",
      "Mean Squared Error: 194877398.09940347\n",
      "Root Mean Squared Error: 13959.84950131639\n"
     ]
    }
   ],
   "source": [
    "print('Test : ')\n",
    "print('Mean Absolute Error:', metrics.mean_absolute_error(y_test, y_pred))  \n",
    "print('Mean Squared Error:', metrics.mean_squared_error(y_test, y_pred))  \n",
    "print('Root Mean Squared Error:', np.sqrt(metrics.mean_squared_error(y_test, y_pred)))"
   ]
  },
  {
   "cell_type": "code",
   "execution_count": 128,
   "metadata": {},
   "outputs": [
    {
     "name": "stdout",
     "output_type": "stream",
     "text": [
      "R-squared for Train: 0.5546226722716019\n",
      "R-squared for Test: 0.5536357417116555\n"
     ]
    }
   ],
   "source": [
    "from sklearn.metrics import r2_score\n",
    "\n",
    "print(\"R-squared for Train:\",r2_score(y_train, pred))\n",
    "print(\"R-squared for Test:\",r2_score(y_test, y_pred))"
   ]
  },
  {
   "cell_type": "code",
   "execution_count": 129,
   "metadata": {},
   "outputs": [
    {
     "name": "stderr",
     "output_type": "stream",
     "text": [
      "C:\\Users\\shefe\\Anaconda3\\lib\\site-packages\\sklearn\\model_selection\\_split.py:1978: FutureWarning: The default value of cv will change from 3 to 5 in version 0.22. Specify it explicitly to silence this warning.\n",
      "  warnings.warn(CV_WARNING, FutureWarning)\n",
      "C:\\Users\\shefe\\Anaconda3\\lib\\site-packages\\sklearn\\model_selection\\_split.py:1978: FutureWarning: The default value of cv will change from 3 to 5 in version 0.22. Specify it explicitly to silence this warning.\n",
      "  warnings.warn(CV_WARNING, FutureWarning)\n",
      "C:\\Users\\shefe\\Anaconda3\\lib\\site-packages\\sklearn\\model_selection\\_split.py:1978: FutureWarning: The default value of cv will change from 3 to 5 in version 0.22. Specify it explicitly to silence this warning.\n",
      "  warnings.warn(CV_WARNING, FutureWarning)\n",
      "C:\\Users\\shefe\\Anaconda3\\lib\\site-packages\\sklearn\\model_selection\\_split.py:1978: FutureWarning: The default value of cv will change from 3 to 5 in version 0.22. Specify it explicitly to silence this warning.\n",
      "  warnings.warn(CV_WARNING, FutureWarning)\n",
      "C:\\Users\\shefe\\Anaconda3\\lib\\site-packages\\sklearn\\model_selection\\_split.py:1978: FutureWarning: The default value of cv will change from 3 to 5 in version 0.22. Specify it explicitly to silence this warning.\n",
      "  warnings.warn(CV_WARNING, FutureWarning)\n",
      "C:\\Users\\shefe\\Anaconda3\\lib\\site-packages\\sklearn\\model_selection\\_split.py:1978: FutureWarning: The default value of cv will change from 3 to 5 in version 0.22. Specify it explicitly to silence this warning.\n",
      "  warnings.warn(CV_WARNING, FutureWarning)\n",
      "C:\\Users\\shefe\\Anaconda3\\lib\\site-packages\\sklearn\\model_selection\\_split.py:1978: FutureWarning: The default value of cv will change from 3 to 5 in version 0.22. Specify it explicitly to silence this warning.\n",
      "  warnings.warn(CV_WARNING, FutureWarning)\n",
      "C:\\Users\\shefe\\Anaconda3\\lib\\site-packages\\sklearn\\model_selection\\_split.py:1978: FutureWarning: The default value of cv will change from 3 to 5 in version 0.22. Specify it explicitly to silence this warning.\n",
      "  warnings.warn(CV_WARNING, FutureWarning)\n",
      "C:\\Users\\shefe\\Anaconda3\\lib\\site-packages\\sklearn\\model_selection\\_split.py:1978: FutureWarning: The default value of cv will change from 3 to 5 in version 0.22. Specify it explicitly to silence this warning.\n",
      "  warnings.warn(CV_WARNING, FutureWarning)\n",
      "C:\\Users\\shefe\\Anaconda3\\lib\\site-packages\\sklearn\\model_selection\\_split.py:1978: FutureWarning: The default value of cv will change from 3 to 5 in version 0.22. Specify it explicitly to silence this warning.\n",
      "  warnings.warn(CV_WARNING, FutureWarning)\n"
     ]
    }
   ],
   "source": [
    "# list of values to try\n",
    "max_depth_range = range(5, 15)\n",
    "\n",
    "# list to store the average RMSE for each value of max_depth\n",
    "RMSE_Scores = []\n",
    "MSE_Scores = []\n",
    "\n",
    "# use LOOCV with each value of max_depth\n",
    "for depth in max_depth_range:\n",
    "    treereg = DecisionTreeRegressor(max_depth=depth, random_state=345)\n",
    "    \n",
    "    MSE_scores = cross_val_score(treereg, X_train, y_train, scoring='neg_mean_squared_error')\n",
    "    \n",
    "    RMSE_Scores.append(np.mean(np.sqrt(-MSE_scores)))\n",
    "    MSE_Scores.append(MSE_scores)"
   ]
  },
  {
   "cell_type": "code",
   "execution_count": 130,
   "metadata": {},
   "outputs": [
    {
     "name": "stdout",
     "output_type": "stream",
     "text": [
      "[13838.176026902109, 11026.681903604898, 10041.11181676432, 9086.834420420857, 8220.37721273738, 7305.015712924942, 6478.9973793588615, 5848.283403386671, 5299.04240594944, 4851.382213691129]\n"
     ]
    }
   ],
   "source": [
    "print (RMSE_Scores)"
   ]
  },
  {
   "cell_type": "code",
   "execution_count": 131,
   "metadata": {},
   "outputs": [
    {
     "data": {
      "text/plain": [
       "Text(0, 0.5, 'RMSE (lower is better)')"
      ]
     },
     "execution_count": 131,
     "metadata": {},
     "output_type": "execute_result"
    },
    {
     "data": {
      "image/png": "[encoded data removed]",
      "text/plain": [
       "<Figure size 432x288 with 1 Axes>"
      ]
     },
     "metadata": {
      "needs_background": "light"
     },
     "output_type": "display_data"
    }
   ],
   "source": [
    "# plot max_depth (x-axis) versus RMSE (y-axis)\n",
    "plt.plot(max_depth_range, RMSE_Scores)\n",
    "plt.xlabel('max_depth')\n",
    "plt.ylabel('RMSE (lower is better)')"
   ]
  },
  {
   "cell_type": "code",
   "execution_count": 132,
   "metadata": {},
   "outputs": [
    {
     "data": {
      "text/plain": [
       "DecisionTreeRegressor(criterion='mse', max_depth=14, max_features=None,\n",
       "                      max_leaf_nodes=None, min_impurity_decrease=0.0,\n",
       "                      min_impurity_split=None, min_samples_leaf=1,\n",
       "                      min_samples_split=2, min_weight_fraction_leaf=0.0,\n",
       "                      presort=False, random_state=345, splitter='best')"
      ]
     },
     "execution_count": 132,
     "metadata": {},
     "output_type": "execute_result"
    }
   ],
   "source": [
    "# max_depth=11 was best, so fit a tree using that parameter\n",
    "treereg = DecisionTreeRegressor(max_depth=14, random_state=345)\n",
    "treereg.fit(X_train, y_train)"
   ]
  },
  {
   "cell_type": "code",
   "execution_count": 133,
   "metadata": {},
   "outputs": [
    {
     "data": {
      "text/plain": [
       "array([2.14902285e-02, 7.00694314e-03, 6.83762529e-01, 1.35995066e-03,\n",
       "       1.43007854e-03, 1.61351466e-02, 1.90447029e-01, 5.43791520e-02,\n",
       "       5.53736048e-03, 1.20822802e-02, 6.03788651e-03, 3.31415733e-04])"
      ]
     },
     "execution_count": 133,
     "metadata": {},
     "output_type": "execute_result"
    }
   ],
   "source": [
    "treereg.feature_importances_"
   ]
  },
  {
   "cell_type": "code",
   "execution_count": 134,
   "metadata": {},
   "outputs": [
    {
     "data": {
      "text/html": [
       "<div>\n",
       "<style scoped>\n",
       "    .dataframe tbody tr th:only-of-type {\n",
       "        vertical-align: middle;\n",
       "    }\n",
       "\n",
       "    .dataframe tbody tr th {\n",
       "        vertical-align: top;\n",
       "    }\n",
       "\n",
       "    .dataframe thead th {\n",
       "        text-align: right;\n",
       "    }\n",
       "</style>\n",
       "<table border=\"1\" class=\"dataframe\">\n",
       "  <thead>\n",
       "    <tr style=\"text-align: right;\">\n",
       "      <th></th>\n",
       "      <th>feature</th>\n",
       "      <th>importance</th>\n",
       "    </tr>\n",
       "  </thead>\n",
       "  <tbody>\n",
       "    <tr>\n",
       "      <th>0</th>\n",
       "      <td>CPI</td>\n",
       "      <td>0.021490</td>\n",
       "    </tr>\n",
       "    <tr>\n",
       "      <th>1</th>\n",
       "      <td>Day</td>\n",
       "      <td>0.007007</td>\n",
       "    </tr>\n",
       "    <tr>\n",
       "      <th>2</th>\n",
       "      <td>Dept</td>\n",
       "      <td>0.683763</td>\n",
       "    </tr>\n",
       "    <tr>\n",
       "      <th>3</th>\n",
       "      <td>Fuel_Price</td>\n",
       "      <td>0.001360</td>\n",
       "    </tr>\n",
       "    <tr>\n",
       "      <th>4</th>\n",
       "      <td>IsHoliday_True</td>\n",
       "      <td>0.001430</td>\n",
       "    </tr>\n",
       "    <tr>\n",
       "      <th>5</th>\n",
       "      <td>Month</td>\n",
       "      <td>0.016135</td>\n",
       "    </tr>\n",
       "    <tr>\n",
       "      <th>6</th>\n",
       "      <td>Size</td>\n",
       "      <td>0.190447</td>\n",
       "    </tr>\n",
       "    <tr>\n",
       "      <th>7</th>\n",
       "      <td>Store</td>\n",
       "      <td>0.054379</td>\n",
       "    </tr>\n",
       "    <tr>\n",
       "      <th>8</th>\n",
       "      <td>Temperature</td>\n",
       "      <td>0.005537</td>\n",
       "    </tr>\n",
       "    <tr>\n",
       "      <th>9</th>\n",
       "      <td>Type_C</td>\n",
       "      <td>0.012082</td>\n",
       "    </tr>\n",
       "    <tr>\n",
       "      <th>10</th>\n",
       "      <td>Unemployment</td>\n",
       "      <td>0.006038</td>\n",
       "    </tr>\n",
       "    <tr>\n",
       "      <th>11</th>\n",
       "      <td>Year</td>\n",
       "      <td>0.000331</td>\n",
       "    </tr>\n",
       "  </tbody>\n",
       "</table>\n",
       "</div>"
      ],
      "text/plain": [
       "           feature  importance\n",
       "0              CPI    0.021490\n",
       "1              Day    0.007007\n",
       "2             Dept    0.683763\n",
       "3       Fuel_Price    0.001360\n",
       "4   IsHoliday_True    0.001430\n",
       "5            Month    0.016135\n",
       "6             Size    0.190447\n",
       "7            Store    0.054379\n",
       "8      Temperature    0.005537\n",
       "9           Type_C    0.012082\n",
       "10    Unemployment    0.006038\n",
       "11            Year    0.000331"
      ]
     },
     "execution_count": 134,
     "metadata": {},
     "output_type": "execute_result"
    }
   ],
   "source": [
    "# \"Gini importance\" of each feature: the (normalized) total reduction of error brought by that feature\n",
    "pd.DataFrame({'feature':data.columns.difference(['Weekly_Sales']), 'importance':treereg.feature_importances_})"
   ]
  },
  {
   "cell_type": "code",
   "execution_count": 135,
   "metadata": {},
   "outputs": [],
   "source": [
    "# create a Graphviz file\n",
    "from sklearn.tree import export_graphviz\n",
    "export_graphviz(treereg, out_file='tree_vehicles.png', feature_names=data.columns.difference(['Weekly_Sales']))"
   ]
  },
  {
   "cell_type": "code",
   "execution_count": 136,
   "metadata": {},
   "outputs": [],
   "source": [
    "pred=treereg.predict(X_train)\n",
    "y_pred=treereg.predict(X_test)"
   ]
  },
  {
   "cell_type": "code",
   "execution_count": 137,
   "metadata": {},
   "outputs": [
    {
     "name": "stdout",
     "output_type": "stream",
     "text": [
      "Train : \n",
      "Mean Absolute Error: 2069.9751911511285\n",
      "Mean Squared Error: 16407973.300713757\n",
      "Root Mean Squared Error: 4050.6756597774843\n"
     ]
    }
   ],
   "source": [
    "print('Train : ')\n",
    "print('Mean Absolute Error:', metrics.mean_absolute_error(y_train, pred))  \n",
    "print('Mean Squared Error:', metrics.mean_squared_error(y_train, pred))  \n",
    "print('Root Mean Squared Error:', np.sqrt(metrics.mean_squared_error(y_train, pred)))"
   ]
  },
  {
   "cell_type": "code",
   "execution_count": 138,
   "metadata": {},
   "outputs": [
    {
     "name": "stdout",
     "output_type": "stream",
     "text": [
      "Test : \n",
      "Mean Absolute Error: 2371.930765936819\n",
      "Mean Squared Error: 21575823.535832647\n",
      "Root Mean Squared Error: 4644.978313817262\n"
     ]
    }
   ],
   "source": [
    "print('Test : ')\n",
    "print('Mean Absolute Error:', metrics.mean_absolute_error(y_test, y_pred))  \n",
    "print('Mean Squared Error:', metrics.mean_squared_error(y_test, y_pred))  \n",
    "print('Root Mean Squared Error:', np.sqrt(metrics.mean_squared_error(y_test, y_pred)))"
   ]
  },
  {
   "cell_type": "code",
   "execution_count": 139,
   "metadata": {},
   "outputs": [
    {
     "name": "stdout",
     "output_type": "stream",
     "text": [
      "R-squared for Train: 0.9617744508244808\n",
      "R-squared for Test: 0.9505808443490213\n"
     ]
    }
   ],
   "source": [
    "print(\"R-squared for Train:\",r2_score(y_train, pred))\n",
    "print(\"R-squared for Test:\",r2_score(y_test, y_pred))"
   ]
  },
  {
   "cell_type": "code",
   "execution_count": null,
   "metadata": {},
   "outputs": [],
   "source": []
  },
  {
   "cell_type": "code",
   "execution_count": 140,
   "metadata": {},
   "outputs": [],
   "source": [
    "from sklearn.ensemble import GradientBoostingRegressor\n",
    "from sklearn.model_selection import ShuffleSplit"
   ]
  },
  {
   "cell_type": "code",
   "execution_count": 141,
   "metadata": {},
   "outputs": [
    {
     "data": {
      "text/plain": [
       "GradientBoostingRegressor(alpha=0.9, criterion='friedman_mse', init=None,\n",
       "                          learning_rate=0.1, loss='ls', max_depth=3,\n",
       "                          max_features=None, max_leaf_nodes=None,\n",
       "                          min_impurity_decrease=0.0, min_impurity_split=None,\n",
       "                          min_samples_leaf=1, min_samples_split=2,\n",
       "                          min_weight_fraction_leaf=0.0, n_estimators=100,\n",
       "                          n_iter_no_change=None, presort='auto',\n",
       "                          random_state=None, subsample=1.0, tol=0.0001,\n",
       "                          validation_fraction=0.1, verbose=0, warm_start=False)"
      ]
     },
     "execution_count": 141,
     "metadata": {},
     "output_type": "execute_result"
    }
   ],
   "source": [
    "gbrt=GradientBoostingRegressor()\n",
    "gbrt.fit(X_train, y_train)"
   ]
  },
  {
   "cell_type": "code",
   "execution_count": 142,
   "metadata": {},
   "outputs": [],
   "source": [
    "pred=gbrt.predict(X_train)\n",
    "y_pred=gbrt.predict(X_test)"
   ]
  },
  {
   "cell_type": "code",
   "execution_count": 143,
   "metadata": {},
   "outputs": [
    {
     "name": "stdout",
     "output_type": "stream",
     "text": [
      "[1.09856812e-02 5.36147321e-04 7.51437878e-01 1.04415965e-06\n",
      " 2.07666801e-04 2.38718421e-03 1.99210102e-01 2.90507155e-02\n",
      " 4.23591299e-04 4.90473107e-03 8.26020113e-04 2.92381134e-05]\n"
     ]
    }
   ],
   "source": [
    "#One of the benefits of growing trees is that we can understand how important each of the features are\n",
    "print(gbrt.feature_importances_)"
   ]
  },
  {
   "cell_type": "code",
   "execution_count": 144,
   "metadata": {},
   "outputs": [
    {
     "name": "stdout",
     "output_type": "stream",
     "text": [
      "Train : \n",
      "Mean Absolute Error: 6551.714582016237\n",
      "Mean Squared Error: 100815080.85690081\n",
      "Root Mean Squared Error: 10040.671334970626\n"
     ]
    }
   ],
   "source": [
    "print('Train : ')\n",
    "print('Mean Absolute Error:', metrics.mean_absolute_error(y_train, pred))  \n",
    "print('Mean Squared Error:', metrics.mean_squared_error(y_train, pred))  \n",
    "print('Root Mean Squared Error:', np.sqrt(metrics.mean_squared_error(y_train, pred)))"
   ]
  },
  {
   "cell_type": "code",
   "execution_count": 145,
   "metadata": {},
   "outputs": [
    {
     "name": "stdout",
     "output_type": "stream",
     "text": [
      "Train : \n",
      "Mean Absolute Error: 6551.714582016237\n",
      "Mean Squared Error: 100815080.85690081\n",
      "Root Mean Squared Error: 10040.671334970626\n"
     ]
    }
   ],
   "source": [
    "print('Train : ')\n",
    "print('Mean Absolute Error:', metrics.mean_absolute_error(y_train, pred))  \n",
    "print('Mean Squared Error:', metrics.mean_squared_error(y_train, pred))  \n",
    "print('Root Mean Squared Error:', np.sqrt(metrics.mean_squared_error(y_train, pred)))"
   ]
  },
  {
   "cell_type": "code",
   "execution_count": 146,
   "metadata": {},
   "outputs": [
    {
     "name": "stdout",
     "output_type": "stream",
     "text": [
      "R-squared for Train: 0.7651317587918206\n",
      "R-squared for Test: 0.7610627592378938\n"
     ]
    }
   ],
   "source": [
    "from sklearn.metrics import r2_score\n",
    "\n",
    "print(\"R-squared for Train:\",r2_score(y_train, pred))\n",
    "print(\"R-squared for Test:\",r2_score(y_test, y_pred))"
   ]
  },
  {
   "cell_type": "code",
   "execution_count": 147,
   "metadata": {},
   "outputs": [],
   "source": [
    "param_grid={'learning_rate' : [0.1,0.01],# 0.02,0.05,0.1],\n",
    "            'max_depth' : [4,6]}# 5,6]"
   ]
  },
  {
   "cell_type": "code",
   "execution_count": 148,
   "metadata": {},
   "outputs": [
    {
     "data": {
      "text/plain": [
       "GradientBoostingRegressor(alpha=0.9, criterion='friedman_mse', init=None,\n",
       "                          learning_rate=0.01, loss='ls', max_depth=6,\n",
       "                          max_features=None, max_leaf_nodes=None,\n",
       "                          min_impurity_decrease=0.0, min_impurity_split=None,\n",
       "                          min_samples_leaf=1, min_samples_split=2,\n",
       "                          min_weight_fraction_leaf=0.0, n_estimators=100,\n",
       "                          n_iter_no_change=None, presort='auto',\n",
       "                          random_state=None, subsample=1.0, tol=0.0001,\n",
       "                          validation_fraction=0.1, verbose=0, warm_start=False)"
      ]
     },
     "execution_count": 148,
     "metadata": {},
     "output_type": "execute_result"
    }
   ],
   "source": [
    "gbrt=GradientBoostingRegressor(learning_rate=0.01, max_depth=6)\n",
    "gbrt.fit(X_train, y_train)"
   ]
  },
  {
   "cell_type": "code",
   "execution_count": 149,
   "metadata": {},
   "outputs": [],
   "source": [
    "pred=gbrt.predict(X_train)\n",
    "y_pred=gbrt.predict(X_test)"
   ]
  },
  {
   "cell_type": "code",
   "execution_count": 150,
   "metadata": {},
   "outputs": [
    {
     "name": "stdout",
     "output_type": "stream",
     "text": [
      "Train : \n",
      "Mean Absolute Error: 8757.334746550901\n",
      "Mean Squared Error: 156533706.6138548\n",
      "Root Mean Squared Error: 12511.343117901242\n"
     ]
    }
   ],
   "source": [
    "print('Train : ')\n",
    "print('Mean Absolute Error:', metrics.mean_absolute_error(y_train, pred))  \n",
    "print('Mean Squared Error:', metrics.mean_squared_error(y_train, pred))  \n",
    "print('Root Mean Squared Error:', np.sqrt(metrics.mean_squared_error(y_train, pred)))"
   ]
  },
  {
   "cell_type": "code",
   "execution_count": 151,
   "metadata": {},
   "outputs": [
    {
     "name": "stdout",
     "output_type": "stream",
     "text": [
      "Test : \n",
      "Mean Absolute Error: 8840.985051279675\n",
      "Mean Squared Error: 161696310.42731223\n",
      "Root Mean Squared Error: 12715.986411887685\n"
     ]
    }
   ],
   "source": [
    "print('Test : ')\n",
    "print('Mean Absolute Error:', metrics.mean_absolute_error(y_test, y_pred))  \n",
    "print('Mean Squared Error:', metrics.mean_squared_error(y_test, y_pred))  \n",
    "print('Root Mean Squared Error:', np.sqrt(metrics.mean_squared_error(y_test, y_pred)))"
   ]
  },
  {
   "cell_type": "code",
   "execution_count": 152,
   "metadata": {},
   "outputs": [
    {
     "name": "stdout",
     "output_type": "stream",
     "text": [
      "R-squared for Train: 0.6353244370812139\n",
      "R-squared for Test: 0.6296366106292444\n"
     ]
    }
   ],
   "source": [
    "print(\"R-squared for Train:\",r2_score(y_train, pred))\n",
    "print(\"R-squared for Test:\",r2_score(y_test, y_pred))"
   ]
  },
  {
   "cell_type": "code",
   "execution_count": null,
   "metadata": {},
   "outputs": [],
   "source": []
  },
  {
   "cell_type": "code",
   "execution_count": 153,
   "metadata": {},
   "outputs": [],
   "source": [
    "from keras import Sequential\n",
    "from keras.layers import Dense\n",
    "from keras.wrappers.scikit_learn import KerasRegressor"
   ]
  },
  {
   "cell_type": "code",
   "execution_count": 154,
   "metadata": {},
   "outputs": [],
   "source": [
    "def build_regressor():\n",
    "    regressor = Sequential()\n",
    "    regressor.add(Dense(units=1, input_dim=12))\n",
    "    regressor.add(Dense(units=1))\n",
    "    regressor.compile(optimizer='adam', loss='mean_squared_error',  metrics=['mae'])\n",
    "    return regressor"
   ]
  },
  {
   "cell_type": "code",
   "execution_count": 155,
   "metadata": {},
   "outputs": [],
   "source": [
    "regressor = KerasRegressor(build_fn=build_regressor, batch_size=256,epochs=10)"
   ]
  },
  {
   "cell_type": "code",
   "execution_count": 156,
   "metadata": {},
   "outputs": [
    {
     "name": "stdout",
     "output_type": "stream",
     "text": [
      "Epoch 1/10\n",
      "1153/1153 [==============================] - 1s 868us/step - loss: 406779904.0000 - mae: 13994.0049\n",
      "Epoch 2/10\n",
      "1153/1153 [==============================] - 1s 815us/step - loss: 404515456.0000 - mae: 13861.1846\n",
      "Epoch 3/10\n",
      "1153/1153 [==============================] - 1s 796us/step - loss: 404167840.0000 - mae: 13872.2734\n",
      "Epoch 4/10\n",
      "1153/1153 [==============================] - 1s 815us/step - loss: 403846912.0000 - mae: 13883.4297\n",
      "Epoch 5/10\n",
      "1153/1153 [==============================] - 1s 860us/step - loss: 403508544.0000 - mae: 13892.3252\n",
      "Epoch 6/10\n",
      "1153/1153 [==============================] - 1s 830us/step - loss: 403212416.0000 - mae: 13903.4092\n",
      "Epoch 7/10\n",
      "1153/1153 [==============================] - 1s 870us/step - loss: 402914208.0000 - mae: 13918.1670\n",
      "Epoch 8/10\n",
      "1153/1153 [==============================] - 1s 736us/step - loss: 402623776.0000 - mae: 13929.8486\n",
      "Epoch 9/10\n",
      "1153/1153 [==============================] - 1s 817us/step - loss: 402364864.0000 - mae: 13942.7402\n",
      "Epoch 10/10\n",
      "1153/1153 [==============================] - 1s 893us/step - loss: 402110912.0000 - mae: 13961.5527\n"
     ]
    }
   ],
   "source": [
    "results=regressor.fit(X_train,y_train)\n"
   ]
  },
  {
   "cell_type": "code",
   "execution_count": 157,
   "metadata": {},
   "outputs": [],
   "source": [
    "pred= regressor.predict(X_train)\n",
    "y_pred= regressor.predict(X_test)"
   ]
  },
  {
   "cell_type": "code",
   "execution_count": 158,
   "metadata": {},
   "outputs": [
    {
     "name": "stdout",
     "output_type": "stream",
     "text": [
      "Train : \n",
      "Mean Absolute Error: 13766.048384326725\n",
      "Mean Squared Error: 402348064.0920225\n",
      "Root Mean Squared Error: 20058.615707272085\n"
     ]
    }
   ],
   "source": [
    "print('Train : ')\n",
    "print('Mean Absolute Error:', metrics.mean_absolute_error(y_train, pred))  \n",
    "print('Mean Squared Error:', metrics.mean_squared_error(y_train, pred))  \n",
    "print('Root Mean Squared Error:', np.sqrt(metrics.mean_squared_error(y_train, pred)))"
   ]
  }
 ],
 "metadata": {
  "kernelspec": {
   "display_name": "Python 3",
   "language": "python",
   "name": "python3"
  },
  "language_info": {
   "codemirror_mode": {
    "name": "ipython",
    "version": 3
   },
   "file_extension": ".py",
   "mimetype": "text/x-python",
   "name": "python",
   "nbconvert_exporter": "python",
   "pygments_lexer": "ipython3",
   "version": "3.7.4"
  }
 },
 "nbformat": 4,
 "nbformat_minor": 2
}
